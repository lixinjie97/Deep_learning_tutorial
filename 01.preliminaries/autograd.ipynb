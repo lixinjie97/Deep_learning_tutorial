{
 "cells": [
  {
   "cell_type": "markdown",
   "id": "bbe0645c-536d-4a60-9eb8-8080ba2e2e3e",
   "metadata": {},
   "source": [
    "# 自动微分\n",
    "\n",
    "正如 [微积分](https://github.com/lixinjie97/Deep_learning_tutorial/blob/main/01.preliminaries/calculus.ipynb) 中所说，求导是几乎所有深度学习优化算法的关键步骤。\n",
    "虽然求导的计算很简单，只需要一些基本的微积分。\n",
    "但对于复杂的模型，手工进行更新是一件很痛苦的事情（而且经常容易出错）。\n",
    "\n",
    "深度学习框架通过自动计算导数，即*自动微分*（automatic differentiation）来加快求导。\n",
    "实际中，根据设计好的模型，系统会构建一个*计算图*（computational graph），\n",
    "来跟踪计算是哪些数据通过哪些操作组合起来产生输出。\n",
    "自动微分使系统能够随后反向传播梯度。\n",
    "这里，*反向传播*（backpropagate）意味着跟踪整个计算图，填充关于每个参数的偏导数。\n",
    "\n",
    "## 一个简单的例子\n",
    "\n",
    "作为一个演示例子，(**假设我们想对函数$y=2\\mathbf{x}^{\\top}\\mathbf{x}$关于列向量$\\mathbf{x}$求导**)。\n",
    "首先，我们创建变量`x`并为其分配一个初始值。"
   ]
  },
  {
   "cell_type": "code",
   "execution_count": 1,
   "id": "056bd065-0258-4141-a331-9740289d4e74",
   "metadata": {},
   "outputs": [
    {
     "data": {
      "text/plain": [
       "(tensor([0., 1., 2., 3.]), torch.Size([4]))"
      ]
     },
     "execution_count": 1,
     "metadata": {},
     "output_type": "execute_result"
    }
   ],
   "source": [
    "import torch\n",
    "\n",
    "x = torch.arange(4.0)\n",
    "x, x.shape"
   ]
  },
  {
   "cell_type": "markdown",
   "id": "c7642f7a-aa00-44cc-8221-217869f68f8d",
   "metadata": {},
   "source": [
    "**单个向量默认方向是列向量**"
   ]
  },
  {
   "cell_type": "markdown",
   "id": "daf9be3c-09b1-4bb6-8ebb-5b4a76ebfead",
   "metadata": {},
   "source": [
    "[**在我们计算$y$关于$\\mathbf{x}$的梯度之前，需要一个地方来存储梯度。**]\n",
    "重要的是，我们不会在每次对一个参数求导时都分配新的内存。\n",
    "因为我们经常会成千上万次地更新相同的参数，每次都分配新的内存可能很快就会将内存耗尽。\n",
    "注意，一个标量函数关于向量$\\mathbf{x}$的梯度是向量，并且与$\\mathbf{x}$具有相同的形状。"
   ]
  },
  {
   "cell_type": "code",
   "execution_count": 2,
   "id": "61f81e87-12d2-4bdf-b0c2-22b01c2da15f",
   "metadata": {},
   "outputs": [
    {
     "name": "stdout",
     "output_type": "stream",
     "text": [
      "None\n"
     ]
    }
   ],
   "source": [
    "x.requires_grad_(True)  # 等价于x=torch.arange(4.0, requires_grad=True)\n",
    "print(x.grad)  # 默认值是None"
   ]
  },
  {
   "cell_type": "markdown",
   "id": "05b12021-2aa8-4200-8960-5d5cdf13280e",
   "metadata": {},
   "source": [
    "(**现在计算$y$。**)"
   ]
  },
  {
   "cell_type": "code",
   "execution_count": 3,
   "id": "8a9284d9-413b-4d7a-88db-c830a7de1665",
   "metadata": {},
   "outputs": [
    {
     "data": {
      "text/plain": [
       "tensor(28., grad_fn=<MulBackward0>)"
      ]
     },
     "execution_count": 3,
     "metadata": {},
     "output_type": "execute_result"
    }
   ],
   "source": [
    "y = 2 * torch.dot(x, x)\n",
    "y"
   ]
  },
  {
   "cell_type": "markdown",
   "id": "a0e46445-bea9-4c6f-8c93-1bbacfb7df53",
   "metadata": {},
   "source": [
    "`x`是一个长度为4的向量，计算`x`和`x`的点积，得到了我们赋值给`y`的标量输出。\n",
    "接下来，[**通过调用反向传播函数来自动计算`y`关于`x`每个分量的梯度**]，并打印这些梯度。"
   ]
  },
  {
   "cell_type": "code",
   "execution_count": 4,
   "id": "120a9c1f-84fe-4dbd-a498-c6bfa2f73653",
   "metadata": {},
   "outputs": [
    {
     "data": {
      "text/plain": [
       "tensor([ 0.,  4.,  8., 12.])"
      ]
     },
     "execution_count": 4,
     "metadata": {},
     "output_type": "execute_result"
    }
   ],
   "source": [
    "y.backward()\n",
    "x.grad"
   ]
  },
  {
   "cell_type": "markdown",
   "id": "9daa53a5-41a6-4240-87d5-1eb3fa30c427",
   "metadata": {},
   "source": [
    "函数$y=2\\mathbf{x}^{\\top}\\mathbf{x}$关于$\\mathbf{x}$的梯度应为$4\\mathbf{x}$。\n",
    "让我们快速验证这个梯度是否计算正确。"
   ]
  },
  {
   "cell_type": "code",
   "execution_count": 5,
   "id": "6a9040a3-7d73-4811-807d-a35380f40a94",
   "metadata": {},
   "outputs": [
    {
     "data": {
      "text/plain": [
       "tensor([True, True, True, True])"
      ]
     },
     "execution_count": 5,
     "metadata": {},
     "output_type": "execute_result"
    }
   ],
   "source": [
    "x.grad == 4 * x"
   ]
  },
  {
   "cell_type": "markdown",
   "id": "af58c4e6-c170-4afb-96f9-1d914de76e80",
   "metadata": {},
   "source": [
    "[**现在计算`x`的另一个函数。**]"
   ]
  },
  {
   "cell_type": "code",
   "execution_count": 6,
   "id": "41c7a9af-5a24-48b9-9fc7-08e710063208",
   "metadata": {},
   "outputs": [
    {
     "data": {
      "text/plain": [
       "tensor([1., 1., 1., 1.])"
      ]
     },
     "execution_count": 6,
     "metadata": {},
     "output_type": "execute_result"
    }
   ],
   "source": [
    "# 在默认情况下，Pytorch会累积梯度，我需要清除之前的值\n",
    "x.grad.zero_()\n",
    "y = x.sum()\n",
    "y.backward()\n",
    "x.grad"
   ]
  },
  {
   "cell_type": "markdown",
   "id": "db0ace6f-c477-4214-8f0e-dd76aad28745",
   "metadata": {},
   "source": [
    "多loss的情况，梯度要累加"
   ]
  },
  {
   "cell_type": "markdown",
   "id": "9118d026-9831-4876-a36d-a56240ad8c7c",
   "metadata": {},
   "source": [
    "## 非标量变量的反向传播\n",
    "\n",
    "当`y`不是标量时，向量`y`关于向量`x`的导数的最自然解释是一个矩阵。\n",
    "对于高阶和高维的`y`和`x`，求导的结果可以是一个高阶张量。\n",
    "\n",
    "然而，虽然这些更奇特的对象确实出现在高级机器学习中（包括[**深度学习中**]），\n",
    "但当调用向量的反向计算时，我们通常会试图计算一批训练样本中每个组成部分的损失函数的导数。\n",
    "这里(**，我们的目的不是计算微分矩阵，而是单独计算批量中每个样本的偏导数之和。**)"
   ]
  },
  {
   "cell_type": "code",
   "execution_count": 7,
   "id": "cc43d82c-8619-434f-ac3a-58542a2e9f4d",
   "metadata": {},
   "outputs": [
    {
     "name": "stdout",
     "output_type": "stream",
     "text": [
      "tensor([0., 1., 4., 9.], grad_fn=<MulBackward0>)\n",
      "tensor([1., 1., 1., 1.])\n",
      "tensor(14., grad_fn=<SumBackward0>)\n"
     ]
    },
    {
     "data": {
      "text/plain": [
       "tensor([0., 2., 4., 6.])"
      ]
     },
     "execution_count": 7,
     "metadata": {},
     "output_type": "execute_result"
    }
   ],
   "source": [
    "# 对非标量调用backward需要传入一个gradient参数，该参数指定微分函数关于self的梯度。\n",
    "# 本例只想求偏导数的和，所以传递一个1的梯度是合适的\n",
    "x.grad.zero_()\n",
    "y = x * x\n",
    "print(y)\n",
    "print(torch.ones(len(x)))\n",
    "# 等价于y.backward(torch.ones(len(x)))\n",
    "print(y.sum())\n",
    "y.sum().backward()\n",
    "x.grad"
   ]
  },
  {
   "cell_type": "markdown",
   "id": "484ef31a-7669-4f3a-915b-42b1067508bc",
   "metadata": {},
   "source": [
    "## 分离计算\n",
    "\n",
    "有时，我们希望[**将某些计算移动到记录的计算图之外**]。\n",
    "例如，假设`y`是作为`x`的函数计算的，而`z`则是作为`y`和`x`的函数计算的。\n",
    "想象一下，我们想计算`z`关于`x`的梯度，但由于某种原因，希望将`y`视为一个常数，\n",
    "并且只考虑到`x`在`y`被计算后发挥的作用。\n",
    "\n",
    "这里可以分离`y`来返回一个新变量`u`，该变量与`y`具有相同的值，\n",
    "但丢弃计算图中如何计算`y`的任何信息。\n",
    "换句话说，梯度不会向后流经`u`到`x`。\n",
    "因此，下面的反向传播函数计算`z=u*x`关于`x`的偏导数，同时将`u`作为常数处理，\n",
    "而不是`z=x*x*x`关于`x`的偏导数。"
   ]
  },
  {
   "cell_type": "code",
   "execution_count": 8,
   "id": "acf3a4b7-2b2c-4b13-a46a-1b3e9d703341",
   "metadata": {},
   "outputs": [
    {
     "data": {
      "text/plain": [
       "tensor([True, True, True, True])"
      ]
     },
     "execution_count": 8,
     "metadata": {},
     "output_type": "execute_result"
    }
   ],
   "source": [
    "x.grad.zero_()\n",
    "y = x * x\n",
    "u = y.detach()\n",
    "z = u * x\n",
    "\n",
    "z.sum().backward()\n",
    "x.grad == u"
   ]
  },
  {
   "cell_type": "markdown",
   "id": "0d2c6472-7ebe-488b-a85a-440761273006",
   "metadata": {},
   "source": [
    "**detach()在做将网络中参数固定住是很有用的功能**"
   ]
  },
  {
   "cell_type": "markdown",
   "id": "1750a145-c8cc-4b71-b4e2-1e77f86d039b",
   "metadata": {},
   "source": [
    "由于记录了`y`的计算结果，我们可以随后在`y`上调用反向传播，\n",
    "得到`y=x*x`关于的`x`的导数，即`2*x`。"
   ]
  },
  {
   "cell_type": "code",
   "execution_count": 9,
   "id": "61f202a4-ba2b-42ec-b809-5aee5a2f2650",
   "metadata": {},
   "outputs": [
    {
     "data": {
      "text/plain": [
       "tensor([True, True, True, True])"
      ]
     },
     "execution_count": 9,
     "metadata": {},
     "output_type": "execute_result"
    }
   ],
   "source": [
    "x.grad.zero_()\n",
    "y.sum().backward()\n",
    "x.grad == 2 * x"
   ]
  },
  {
   "cell_type": "markdown",
   "id": "ddb525f1-d8c3-4f2d-93ce-548613519b84",
   "metadata": {},
   "source": [
    "## Python控制流的梯度计算\n",
    "\n",
    "使用自动微分的一个好处是：\n",
    "[**即使构建函数的计算图需要通过Python控制流（例如，条件、循环或任意函数调用），我们仍然可以计算得到的变量的梯度**]。\n",
    "在下面的代码中，`while`循环的迭代次数和`if`语句的结果都取决于输入`a`的值。\n",
    "\n",
    "其中norm()函数用来求$L_2$范数"
   ]
  },
  {
   "cell_type": "code",
   "execution_count": 10,
   "id": "780b75b7-79cf-4083-8f66-0bc5fb0a072d",
   "metadata": {},
   "outputs": [],
   "source": [
    "def f(a):\n",
    "    b = a * 2\n",
    "    while b.norm() < 1000:\n",
    "        b = b * 2\n",
    "    if b.sum() > 0:\n",
    "        c = b\n",
    "    else:\n",
    "        c = 100 * b\n",
    "    return c"
   ]
  },
  {
   "cell_type": "markdown",
   "id": "a64d451f-4b80-4a82-97cd-8aa108143b71",
   "metadata": {},
   "source": [
    "让我们计算梯度"
   ]
  },
  {
   "cell_type": "code",
   "execution_count": 11,
   "id": "6c4044b6-b9b4-45bd-9c2e-0ed4acceb6f8",
   "metadata": {},
   "outputs": [
    {
     "name": "stdout",
     "output_type": "stream",
     "text": [
      "tensor(-0.2734, requires_grad=True)\n",
      "tensor(-111988.7578, grad_fn=<MulBackward0>)\n"
     ]
    }
   ],
   "source": [
    "a = torch.randn(size=(), requires_grad=True)\n",
    "print(a)\n",
    "d = f(a)\n",
    "print(d)\n",
    "d.backward()"
   ]
  },
  {
   "cell_type": "markdown",
   "id": "ba709d07-4bd9-4fb7-9e7f-e7ca029c4515",
   "metadata": {},
   "source": [
    "我们现在可以分析上面定义的`f`函数。\n",
    "请注意，它在其输入`a`中是分段线性的。\n",
    "换言之，对于任何`a`，存在某个常量标量`k`，使得`f(a)=k*a`，其中`k`的值取决于输入`a`，因此可以用`d/a`验证梯度是否正确。"
   ]
  },
  {
   "cell_type": "code",
   "execution_count": 12,
   "id": "06827fc9-68b5-4090-95bd-01d07c9822ae",
   "metadata": {},
   "outputs": [
    {
     "data": {
      "text/plain": [
       "tensor(True)"
      ]
     },
     "execution_count": 12,
     "metadata": {},
     "output_type": "execute_result"
    }
   ],
   "source": [
    "a.grad == d / a"
   ]
  },
  {
   "cell_type": "markdown",
   "id": "7e95fdf6-5bd6-46cc-9da3-9fba9c852736",
   "metadata": {},
   "source": [
    "## 小结\n",
    "\n",
    "* 深度学习框架可以自动计算导数：我们首先将梯度附加到想要对其计算偏导数的变量上，然后记录目标值的计算，执行它的反向传播函数，并访问得到的梯度。\n",
    "* 深度学习中需要对每一层计算梯度，如果用正向累积（从叶子到根）计算每一个变量的梯度都需要重新扫一遍，这个计算复杂度太高；而反向累积扫一遍就可以得到每个变量的梯度（因为保存了中间结果）\n",
    "* 在深度学习中不做向量、矩阵的求导，只做标量的求导\n",
    "* Pytorch隐式构造对控制流做的更好一点，但是会相对显式构造慢一些"
   ]
  },
  {
   "cell_type": "markdown",
   "id": "ee8e4216-1ca2-48a5-82a3-66f2aa67981e",
   "metadata": {},
   "source": [
    "## 练习\n",
    "\n",
    "1. 为什么计算二阶导数比一阶导数的开销要更大？\n",
    "1. 在运行反向传播函数之后，立即再次运行它，看看会发生什么。\n",
    "1. 在控制流的例子中，我们计算`d`关于`a`的导数，如果将变量`a`更改为随机向量或矩阵，会发生什么？\n",
    "1. 重新设计一个求控制流梯度的例子，运行并分析结果。\n",
    "1. 使$f(x)=\\sin(x)$，绘制$f(x)$和$\\frac{df(x)}{dx}$的图像，其中后者不使用$f'(x)=\\cos(x)$。"
   ]
  },
  {
   "cell_type": "markdown",
   "id": "87d58910-1283-473c-a86d-95256871b26d",
   "metadata": {},
   "source": [
    "### 练习题一"
   ]
  },
  {
   "cell_type": "markdown",
   "id": "199f74e6-ea27-4860-b602-2bed8eaf7b0e",
   "metadata": {},
   "source": [
    "在PyTorch中计算一阶导数和二阶导数都是通过自动微分机制实现的，下面解释一下为什么计算二阶导数的开销通常要比计算一阶导数要大：\n",
    "\n",
    "1. 计算图的构建：在计算一阶导数时，PyTorch只需要构建一次计算图，然后根据需要进行反向传播即可。而在计算二阶导数时，需要构建两次计算图，第一次是计算一阶导数，第二次是计算一阶导数的导数，也就是二阶导数。因此，计算二阶导数需要更多的计算图构建操作。\n",
    "\n",
    "1. 内存占用：计算一节导数时，PyTorch只需要保留一节导数的梯度值，而计算二阶导数时需要保留一阶导数和二阶导数的梯度值，这会占用更多的内存。\n",
    "\n",
    "1. 计算量增加：计算二阶导数需要对一阶导数进行额外的计算，这增加了计算量和计算时间。\n",
    "\n",
    "因此，计算二阶导数的开销通常要比计算一阶导数更大。"
   ]
  },
  {
   "cell_type": "markdown",
   "id": "ddda7987-ec8e-46c5-b092-4c43c4803ee3",
   "metadata": {},
   "source": [
    "### 练习题二"
   ]
  },
  {
   "cell_type": "code",
   "execution_count": 1,
   "id": "4586beca-6645-48fa-b4df-e880487ecbb4",
   "metadata": {},
   "outputs": [
    {
     "name": "stdout",
     "output_type": "stream",
     "text": [
      "tensor([0., 1., 2., 3.], requires_grad=True)\n",
      "tensor(3.7417, grad_fn=<SqrtBackward0>)\n",
      "tensor([0.0000, 0.2673, 0.5345, 0.8018])\n",
      "Trying to backward through the graph a second time (or directly access saved tensors after they have already been freed). Saved intermediate values of the graph are freed when you call .backward() or autograd.grad(). Specify retain_graph=True if you need to backward through the graph a second time or if you need to access saved tensors after calling backward.\n"
     ]
    }
   ],
   "source": [
    "import torch\n",
    "\n",
    "x = torch.arange(4.0, requires_grad=True)\n",
    "print(x)\n",
    "y = torch.dot(x, x).sqrt()\n",
    "print(y)\n",
    "y.backward()\n",
    "print(x.grad)\n",
    "\n",
    "try:\n",
    "    y.backward()\n",
    "    print(x.grad)\n",
    "except Exception as e:\n",
    "    print(e)"
   ]
  },
  {
   "cell_type": "markdown",
   "id": "7ba32f6b-2c39-4228-b8a3-2044c9a7c665",
   "metadata": {},
   "source": [
    "如果需要第二次执行反向传播，或者在反向传播调用后需要访问保存的张量，请指定retain_graph=True。"
   ]
  },
  {
   "cell_type": "code",
   "execution_count": 2,
   "id": "58b5b859-0ffe-427a-a0a1-b0ef1a9c8fc4",
   "metadata": {},
   "outputs": [
    {
     "name": "stdout",
     "output_type": "stream",
     "text": [
      "tensor([0., 1., 2., 3.], requires_grad=True)\n",
      "tensor(3.7417, grad_fn=<SqrtBackward0>)\n",
      "tensor([0.0000, 0.2673, 0.5345, 0.8018])\n",
      "tensor([0.0000, 0.5345, 1.0690, 1.6036])\n"
     ]
    }
   ],
   "source": [
    "x = torch.arange(4.0, requires_grad=True)\n",
    "print(x)\n",
    "y = torch.dot(x, x).sqrt()\n",
    "print(y)\n",
    "y.backward(retain_graph=True)\n",
    "print(x.grad)\n",
    "\n",
    "try:\n",
    "    y.backward()\n",
    "    print(x.grad)\n",
    "except Exception as e:\n",
    "    print(e)"
   ]
  },
  {
   "cell_type": "markdown",
   "id": "730ea0c6-6c7f-4c86-9e52-b544e6170b58",
   "metadata": {},
   "source": [
    "### 练习题三"
   ]
  },
  {
   "cell_type": "code",
   "execution_count": 3,
   "id": "875a2090-075c-43a4-8f4f-e8292f4d3249",
   "metadata": {},
   "outputs": [
    {
     "name": "stdout",
     "output_type": "stream",
     "text": [
      "tensor([[ 0.5170, -1.3948,  0.0212]], requires_grad=True)\n",
      "grad can be implicitly created only for scalar outputs\n"
     ]
    }
   ],
   "source": [
    "def f(a):\n",
    "    b = a * 2\n",
    "    while b.norm() < 1000:\n",
    "        b = b * 2\n",
    "    if b.sum() > 0:\n",
    "        c = b\n",
    "    else:\n",
    "        c = 100 * b\n",
    "    return c\n",
    "a = torch.randn(size=(1, 3), requires_grad=True)\n",
    "print(a)\n",
    "d = f(a)\n",
    "\n",
    "try:\n",
    "    d.backward()\n",
    "except Exception as e:\n",
    "    print(e)"
   ]
  },
  {
   "cell_type": "markdown",
   "id": "a44ac51b-2908-4233-9dda-e5513bbaaf41",
   "metadata": {},
   "source": [
    "根据上述执行结果，如果将变量 $a$ 更改为随机向量或矩阵，会报错，因为PyTorch只能对标量结果求梯度，可以将代码进行以下修改："
   ]
  },
  {
   "cell_type": "code",
   "execution_count": 4,
   "id": "940bdbbc-31f0-4c0a-9d77-78793e3f997a",
   "metadata": {},
   "outputs": [
    {
     "name": "stdout",
     "output_type": "stream",
     "text": [
      "tensor([[1., 1., 1.]])\n",
      "tensor([[102400., 102400., 102400.]])\n"
     ]
    }
   ],
   "source": [
    "try:\n",
    "    print(torch.ones_like(d))\n",
    "    d.backward(torch.ones_like(d))\n",
    "except Exception as e:\n",
    "    print(e)\n",
    "print(a.grad)"
   ]
  },
  {
   "cell_type": "markdown",
   "id": "d32fc08e-50d0-4892-918a-855904737329",
   "metadata": {},
   "source": [
    "### 练习题四"
   ]
  },
  {
   "cell_type": "code",
   "execution_count": 5,
   "id": "8d550f19-55b7-4df9-8655-b0046d2f9e26",
   "metadata": {},
   "outputs": [
    {
     "name": "stdout",
     "output_type": "stream",
     "text": [
      "tensor(0.7580, requires_grad=True)\n",
      "tensor(2048.)\n"
     ]
    },
    {
     "data": {
      "text/plain": [
       "tensor(True)"
      ]
     },
     "execution_count": 5,
     "metadata": {},
     "output_type": "execute_result"
    }
   ],
   "source": [
    "def f(a):\n",
    "    b = a * 2\n",
    "    while b.norm(1) < 1000:\n",
    "        b = b * 2\n",
    "    if b.sum() > 0:\n",
    "        c = b\n",
    "    else:\n",
    "        c = 100 * b\n",
    "    return c.sum()\n",
    "a = torch.randn(size=(), requires_grad=True)\n",
    "d = f(a)\n",
    "print(a)\n",
    "d.backward()\n",
    "print(a.grad)\n",
    "a.grad == d / a"
   ]
  },
  {
   "cell_type": "markdown",
   "id": "b603e15a-6b89-46d1-8046-1deac57b3e56",
   "metadata": {},
   "source": [
    "### 练习题五"
   ]
  },
  {
   "cell_type": "code",
   "execution_count": 6,
   "id": "e0bd3820-2178-41d5-8c1d-735eb36c674b",
   "metadata": {},
   "outputs": [
    {
     "data": {
      "image/png": "[encoded data removed]",
      "text/plain": [
       "<Figure size 640x480 with 1 Axes>"
      ]
     },
     "metadata": {},
     "output_type": "display_data"
    }
   ],
   "source": [
    "import matplotlib.pyplot as plt\n",
    "\n",
    "def f(x):\n",
    "    return torch.sin(x)\n",
    "\n",
    "\n",
    "def df(x):\n",
    "    x.requires_grad_()\n",
    "    y = f(x)\n",
    "    y.backward(torch.ones_like(y))\n",
    "    return x.grad\n",
    "\n",
    "x = torch.linspace(-2*torch.pi, 2*torch.pi, 200)\n",
    "\n",
    "y1 = f(x)\n",
    "y2 = df(x)\n",
    "\n",
    "plt.plot(x.detach().numpy(), y1.detach().numpy(), label='f(x)=sin(x)')\n",
    "plt.plot(x.detach().numpy(), y2.detach().numpy(), label='df(x)/dx')\n",
    "plt.legend() # plt.legend()函数的作用是给图像加图例\n",
    "plt.xlabel('x')\n",
    "plt.ylabel('y')\n",
    "plt.show()"
   ]
  },
  {
   "cell_type": "markdown",
   "id": "dd3ea2d3-b7ea-4807-b83d-dda05be63514",
   "metadata": {},
   "source": [
    "tensor在计算图里了，想要把tensor转为numpy就要把tensor从计算图中脱离出来（detach），如果不脱离会报错的[Tensor.detach()解释](https://blog.csdn.net/m0_47746932/article/details/119598396)"
   ]
  }
 ],
 "metadata": {
  "kernelspec": {
   "display_name": "Python 3 (ipykernel)",
   "language": "python",
   "name": "python3"
  },
  "language_info": {
   "codemirror_mode": {
    "name": "ipython",
    "version": 3
   },
   "file_extension": ".py",
   "mimetype": "text/x-python",
   "name": "python",
   "nbconvert_exporter": "python",
   "pygments_lexer": "ipython3",
   "version": "3.10.6"
  }
 },
 "nbformat": 4,
 "nbformat_minor": 5
}
