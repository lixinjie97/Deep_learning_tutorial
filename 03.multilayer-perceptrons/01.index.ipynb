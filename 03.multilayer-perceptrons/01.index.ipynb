{
 "cells": [
  {
   "cell_type": "markdown",
   "id": "982475c3-c562-492f-9628-494023c2e58b",
   "metadata": {},
   "source": [
    "# 多层感知机\n",
    "\n",
    "在本章中，我们将第一次介绍真正的*深度*网络。\n",
    "最简单的深度网络称为*多层感知机*。多层感知机有多层神经元组成。\n",
    "每一层与它的上一层相连，从中接收输入；\n",
    "同时每一层也与它的下一层相连，影响当前层的神经元。\n",
    "当我们训练容量较大的模型时，我们面临着*过拟合*的风险。\n",
    "因此，本章将从基本的概念介绍开始讲起，包括*过拟合*、*欠拟合*和模型选择。\n",
    "为了解决这些问题，本章将介绍*权重衰减*和*暂退法*等正则化技术。\n",
    "我们还将讨论数值稳定性和参数初始化相关的问题，\n",
    "这些问题是成功训练深度网络的关键。\n",
    "在本章的最后，我们将把所介绍的内容应用到一个真实的案例：房价预测。\n",
    "关于模型计算性能、可伸缩性和效率相关的问题，我们将放在后面的章节中讨论。"
   ]
  }
 ],
 "metadata": {
  "kernelspec": {
   "display_name": "Python 3 (ipykernel)",
   "language": "python",
   "name": "python3"
  },
  "language_info": {
   "codemirror_mode": {
    "name": "ipython",
    "version": 3
   },
   "file_extension": ".py",
   "mimetype": "text/x-python",
   "name": "python",
   "nbconvert_exporter": "python",
   "pygments_lexer": "ipython3",
   "version": "3.10.6"
  }
 },
 "nbformat": 4,
 "nbformat_minor": 5
}
