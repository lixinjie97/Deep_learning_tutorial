{
 "cells": [
  {
   "cell_type": "markdown",
   "id": "beae7f2b-c3dc-4ef4-b8c3-dd48a7f83eb5",
   "metadata": {},
   "source": [
    "# 多输入多输出通道\n",
    "\n",
    "虽然我们在[从全连接层到卷积](https://github.com/lixinjie97/Deep_learning_tutorial/blob/main/05.convolutional-neural-networks/02.why-conv.ipynb)中描述了构成每个图像的多个通道和多层卷积层。例如彩色图像具有标准的RGB通道来代表红、绿和蓝。\n",
    "但是到目前为止，我们仅展示了单个输入和单个输出通道的简化例子。\n",
    "这使得我们可以将输入、卷积核和输出看作二维张量。\n",
    "\n",
    "当我们添加通道时，我们的输入和隐藏的表示都变成了三维张量。例如，每个RGB输入图像具有$3\\times h\\times w$的形状。我们将这个大小为$3$的轴称为*通道*（channel）维度。本节将更深入地研究具有多输入和多输出通道的卷积核。"
   ]
  },
  {
   "cell_type": "markdown",
   "id": "e44fea27-e5ff-463e-98cf-0ff666c0673d",
   "metadata": {},
   "source": [
    "## 多输入通道\n",
    "\n",
    "当输入包含多个通道时，需要构造一个与输入数据具有相同输入通道数的卷积核，以便与输入数据进行互相关运算。假设输入的通道数为$c_i$，那么卷积核的输入通道数也需要为$c_i$。如果卷积核的窗口形状是$k_h\\times k_w$，那么当$c_i=1$时，我们可以把卷积核看作形状为$k_h\\times k_w$的二维张量。\n",
    "\n",
    "然而，当$c_i>1$时，我们卷积核的每个输入通道将包含形状为$k_h\\times k_w$的张量。将这些张量$c_i$连结在一起可以得到形状为$c_i\\times k_h\\times k_w$的卷积核。由于输入和卷积核都有$c_i$个通道，我们可以对每个通道输入的二维张量和卷积核的二维张量进行互相关运算，再对通道求和（将$c_i$的结果相加）得到二维张量。这是多通道输入和多输入通道卷积核之间进行二维互相关运算的结果。\n",
    "\n",
    "在下图中，我们演示了一个具有两个输入通道的二维互相关运算的示例。阴影部分是第一个输出元素以及用于计算这个输出的输入和核张量元素：$(1\\times1+2\\times2+4\\times3+5\\times4)+(0\\times0+1\\times1+3\\times2+4\\times3)=56$。\n",
    "\n",
    "![两个输入通道的互相关计算。](../assets/conv-multi-in.svg)\n",
    "\n",
    "为了加深理解，我们(**实现一下多输入通道互相关运算**)。\n",
    "简而言之，我们所做的就是对每个通道执行互相关操作，然后将结果相加。"
   ]
  },
  {
   "cell_type": "code",
   "execution_count": 1,
   "id": "230face8-5078-45c6-8b53-55b0edc91c2b",
   "metadata": {},
   "outputs": [],
   "source": [
    "import torch\n",
    "from d2l import torch as d2l"
   ]
  },
  {
   "cell_type": "code",
   "execution_count": 2,
   "id": "b7599a1d-750a-479b-b4e0-1a3c9e80553d",
   "metadata": {},
   "outputs": [],
   "source": [
    "def corr2d_multi_in(X, K):\n",
    "    # 先遍历“X”和“K”的第0个维度（通道维度），再把它们加在一起\n",
    "    return sum(d2l.corr2d(x, k) for x, k in zip(X, K))"
   ]
  },
  {
   "cell_type": "markdown",
   "id": "620ccb16-2234-44c6-a21e-c6cf51905c77",
   "metadata": {},
   "source": [
    "我们可以构造与上图中的值相对应的输入张量`X`和核张量`K`，以(**验证互相关运算的输出**)。"
   ]
  },
  {
   "cell_type": "code",
   "execution_count": 3,
   "id": "9f6581b4-5a67-4aae-9050-a5f215caf280",
   "metadata": {},
   "outputs": [
    {
     "data": {
      "text/plain": [
       "tensor([[ 56.,  72.],\n",
       "        [104., 120.]])"
      ]
     },
     "execution_count": 3,
     "metadata": {},
     "output_type": "execute_result"
    }
   ],
   "source": [
    "X = torch.tensor([[[0.0, 1.0, 2.0], [3.0, 4.0, 5.0], [6.0, 7.0, 8.0]],\n",
    "                 [[1.0, 2.0, 3.0], [4.0, 5.0, 6.0], [7.0, 8.0, 9.0]]])\n",
    "K = torch.tensor([[[0.0, 1.0], [2.0, 3.0]], [[1.0, 2.0], [3.0, 4.0]]])\n",
    "\n",
    "corr2d_multi_in(X, K)"
   ]
  },
  {
   "cell_type": "markdown",
   "id": "5cd12c43-ce25-4911-85e5-e68d6e2d4fcb",
   "metadata": {},
   "source": [
    "## 多输出通道\n",
    "\n",
    "到目前为止，不论有多少输入通道，我们还只有一个输出通道。然而，正如我们在[从全连接层到卷积](https://github.com/lixinjie97/Deep_learning_tutorial/blob/main/05.convolutional-neural-networks/02.why-conv.ipynb)中所讨论的，每一层有多个输出通道是至关重要的。在最流行的神经网络架构中，随着神经网络层数的加深，我们常会增加输出通道的维数，通过减少空间分辨率以获得更大的通道深度。直观地说，我们可以将每个通道看作对不同特征的响应。而现实可能更为复杂一些，因为每个通道不是独立学习的，而是为了共同使用而优化的。因此，多输出通道并不仅是学习多个单通道的检测器。\n",
    "\n",
    "用$c_i$和$c_o$分别表示输入和输出通道的数目，并让$k_h$和$k_w$为卷积核的高度和宽度。为了获得多个通道的输出，我们可以为每个输出通道创建一个形状为$c_i\\times k_h\\times k_w$的卷积核张量，这样卷积核的形状是$c_o\\times c_i\\times k_h\\times k_w$。在互相关运算中，每个输出通道先获取所有输入通道，再以对应该输出通道的卷积核计算出结果。\n",
    "\n",
    "如下所示，我们实现一个[**计算多个通道的输出的互相关函数**]。"
   ]
  },
  {
   "cell_type": "code",
   "execution_count": 4,
   "id": "4b19cde1-1c75-47e7-b24b-47be51fee749",
   "metadata": {},
   "outputs": [],
   "source": [
    "def corr2d_multi_in_out(X, K):\n",
    "    # 迭代“K”的第0个维度，每次都对输入“X”执行互相关运算\n",
    "    # 最后将所有结果都叠加在一起\n",
    "    return torch.stack([corr2d_multi_in(X, k) for k in K], 0)"
   ]
  },
  {
   "cell_type": "markdown",
   "id": "c0364686-bb5e-41ae-9a31-b494f7e9c889",
   "metadata": {},
   "source": [
    "通过将核张量`K`与`K+1`（`K`中每个元素加$1$）和`K+2`连接起来，构造了一个具有$3$个输出通道的卷积核。"
   ]
  },
  {
   "cell_type": "code",
   "execution_count": 5,
   "id": "6e7df771-a4fb-47b4-bccf-01eb1732b00d",
   "metadata": {},
   "outputs": [
    {
     "data": {
      "text/plain": [
       "torch.Size([3, 2, 2, 2])"
      ]
     },
     "execution_count": 5,
     "metadata": {},
     "output_type": "execute_result"
    }
   ],
   "source": [
    "K = torch.stack((K, K + 1, K + 2), 0)\n",
    "K.shape"
   ]
  },
  {
   "cell_type": "markdown",
   "id": "f7d7351c-a598-4550-b65b-da5c6b2ee7b5",
   "metadata": {},
   "source": [
    "下面，我们对输入张量`X`与卷积核张量`K`执行互相关运算。现在的输出包含$3$个通道，第一个通道的结果与先前输入张量`X`和多输入单输出通道的结果一致。"
   ]
  },
  {
   "cell_type": "code",
   "execution_count": 6,
   "id": "3415b96f-2600-4d50-8db6-3e3dde62f0f8",
   "metadata": {},
   "outputs": [
    {
     "data": {
      "text/plain": [
       "tensor([[[ 56.,  72.],\n",
       "         [104., 120.]],\n",
       "\n",
       "        [[ 76., 100.],\n",
       "         [148., 172.]],\n",
       "\n",
       "        [[ 96., 128.],\n",
       "         [192., 224.]]])"
      ]
     },
     "execution_count": 6,
     "metadata": {},
     "output_type": "execute_result"
    }
   ],
   "source": [
    "corr2d_multi_in_out(X, K)"
   ]
  },
  {
   "cell_type": "markdown",
   "id": "a303e1fe-3ac4-461d-8ca1-de6dd5fb6405",
   "metadata": {},
   "source": [
    "## $1\\times 1$ 卷积层\n",
    "\n",
    "[~~1x1卷积~~]\n",
    "\n",
    "$1 \\times 1$卷积，即$k_h = k_w = 1$，看起来似乎没有多大意义。\n",
    "毕竟，卷积的本质是有效提取相邻像素间的相关特征，而$1 \\times 1$卷积显然没有此作用。\n",
    "尽管如此，$1 \\times 1$仍然十分流行，经常包含在复杂深层网络的设计中。下面，让我们详细地解读一下它的实际作用。\n",
    "\n",
    "因为使用了最小窗口，$1\\times 1$卷积失去了卷积层的特有能力——在高度和宽度维度上，识别相邻元素间相互作用的能力。\n",
    "其实$1\\times 1$卷积的唯一计算发生在通道上。\n",
    "\n",
    "下图展示了使用$1\\times 1$卷积核与$3$个输入通道和$2$个输出通道的互相关计算。\n",
    "这里输入和输出具有相同的高度和宽度，输出中的每个元素都是从输入图像中同一位置的元素的线性组合。\n",
    "我们可以将$1\\times 1$卷积层看作在每个像素位置应用的全连接层，以$c_i$个输入值转换为$c_o$个输出值。\n",
    "因为这仍然是一个卷积层，所以跨像素的权重是一致的。\n",
    "同时，$1\\times 1$卷积层需要的权重维度为$c_o\\times c_i$，再额外加上一个偏置。\n",
    "\n",
    "![互相关计算使用了具有3个输入通道和2个输出通道的 $1\\times 1$ 卷积核。其中，输入和输出具有相同的高度和宽度。](../assets/conv-1x1.svg)\n",
    "\n",
    "下面，我们使用全连接层实现$1 \\times 1$卷积。\n",
    "请注意，我们需要对输入和输出的数据形状进行调整。"
   ]
  },
  {
   "cell_type": "code",
   "execution_count": 7,
   "id": "d19bd42d-ada7-4961-9a85-1882b968a693",
   "metadata": {},
   "outputs": [],
   "source": [
    "def corr2d_multi_in_out_1x1(X, K):\n",
    "    c_i, h, w = X.shape\n",
    "    c_o = K.shape[0]\n",
    "    X = X.reshape((c_i, h * w))\n",
    "    K = K.reshape((c_o, c_i))\n",
    "    # 全连接层中的矩阵乘法\n",
    "    Y = torch.matmul(K, X)\n",
    "    return Y.reshape((c_o, h, w))"
   ]
  },
  {
   "cell_type": "markdown",
   "id": "8cc3d715-98cf-4f98-896a-9535f8b5a779",
   "metadata": {},
   "source": [
    "当执行$1\\times 1$卷积运算时，上述函数相当于先前实现的互相关函数`corr2d_multi_in_out`。让我们用一些样本数据来验证这一点。"
   ]
  },
  {
   "cell_type": "code",
   "execution_count": 8,
   "id": "35eef1bb-0f45-428b-8410-91e7919cc505",
   "metadata": {},
   "outputs": [
    {
     "data": {
      "text/plain": [
       "(tensor([[[ 0.3563,  1.4772,  0.9148],\n",
       "          [-0.2457,  1.0697,  1.0365],\n",
       "          [ 0.1840,  1.5324, -0.2801]],\n",
       " \n",
       "         [[ 1.7740, -2.4394,  1.1490],\n",
       "          [-1.6016,  0.0853, -1.1480],\n",
       "          [-0.7222, -0.4267,  0.7916]],\n",
       " \n",
       "         [[-0.7292, -0.8740, -0.0455],\n",
       "          [-1.6204,  0.8611,  0.8368],\n",
       "          [-1.6474, -0.5812,  2.0117]]]),\n",
       " tensor([[[[-1.4702]],\n",
       " \n",
       "          [[-0.7762]],\n",
       " \n",
       "          [[ 0.5536]]],\n",
       " \n",
       " \n",
       "         [[[-0.4428]],\n",
       " \n",
       "          [[ 1.9516]],\n",
       " \n",
       "          [[ 0.5187]]]]))"
      ]
     },
     "execution_count": 8,
     "metadata": {},
     "output_type": "execute_result"
    }
   ],
   "source": [
    "X = torch.normal(0, 1, (3, 3, 3))\n",
    "K = torch.normal(0, 1, (2, 3, 1, 1))\n",
    "\n",
    "X, K"
   ]
  },
  {
   "cell_type": "code",
   "execution_count": 9,
   "id": "32fad57e-c110-41d8-966e-a7a3b5ee0b0d",
   "metadata": {},
   "outputs": [
    {
     "data": {
      "text/plain": [
       "(tensor([[[-2.3044, -0.7623, -2.2621],\n",
       "          [ 0.7072, -1.1622, -0.1696],\n",
       "          [-0.6221, -2.2436,  0.9111]],\n",
       " \n",
       "         [[ 2.9260, -5.8680,  1.8138],\n",
       "          [-3.8574,  0.1394, -2.2652],\n",
       "          [-2.3455, -1.8129,  2.7125]]]),\n",
       " tensor([[[-2.3044, -0.7623, -2.2621],\n",
       "          [ 0.7072, -1.1622, -0.1696],\n",
       "          [-0.6221, -2.2436,  0.9111]],\n",
       " \n",
       "         [[ 2.9260, -5.8680,  1.8138],\n",
       "          [-3.8574,  0.1394, -2.2652],\n",
       "          [-2.3455, -1.8129,  2.7125]]]))"
      ]
     },
     "execution_count": 9,
     "metadata": {},
     "output_type": "execute_result"
    }
   ],
   "source": [
    "Y1 = corr2d_multi_in_out_1x1(X, K)\n",
    "Y2 = corr2d_multi_in_out(X, K)\n",
    "assert float(torch.abs(Y1 - Y2).sum()) < 1e-6\n",
    "\n",
    "Y1, Y2"
   ]
  },
  {
   "cell_type": "markdown",
   "id": "55b7feeb-f94f-4341-824a-64b6ed8e4e23",
   "metadata": {},
   "source": [
    "## 小结\n",
    "\n",
    "* 多输入多输出通道可以用来扩展卷积层的模型。\n",
    "* 当以每像素为基础应用时，$1\\times 1$卷积层相当于全连接层。\n",
    "* $1\\times 1$卷积层通常用于调整网络层的通道数量和控制模型复杂性。"
   ]
  },
  {
   "cell_type": "markdown",
   "id": "0706dbae-74ea-4c01-80eb-20f5a352e08a",
   "metadata": {},
   "source": [
    "## 练习\n",
    "\n",
    "1. 假设我们有两个卷积核，大小分别为$k_1$和$k_2$（中间没有非线性激活函数）。\n",
    "    1. 证明运算可以用单次卷积来表示。\n",
    "    1. 这个等效的单个卷积核的维数是多少呢？\n",
    "    1. 反之亦然吗？\n",
    "1. 假设输入为$c_i\\times h\\times w$，卷积核大小为$c_o\\times c_i\\times k_h\\times k_w$，填充为$(p_h, p_w)$，步幅为$(s_h, s_w)$。\n",
    "    1. 前向传播的计算成本（乘法和加法）是多少？\n",
    "    1. 内存占用是多少？\n",
    "    1. 反向传播的内存占用是多少？\n",
    "    1. 反向传播的计算成本是多少？\n",
    "1. 如果我们将输入通道$c_i$和输出通道$c_o$的数量加倍，计算数量会增加多少？如果我们把填充数量翻一番会怎么样？\n",
    "1. 如果卷积核的高度和宽度是$k_h=k_w=1$，前向传播的计算复杂度是多少？\n",
    "1. 本节最后一个示例中的变量`Y1`和`Y2`是否完全相同？为什么？\n",
    "1. 当卷积窗口不是$1\\times 1$时，如何使用矩阵乘法实现卷积？"
   ]
  },
  {
   "cell_type": "markdown",
   "id": "0ed98fe5-41bd-4fc5-a7f7-518d4b0b2859",
   "metadata": {},
   "source": [
    "### 练习一\n",
    "\n",
    "1. 假设我们有两个卷积核，大小分别为$k_1$和$k_2$（中间没有非线性激活函数）。\n",
    "   1. 证明运算可以用单次卷积来表示。\n",
    "   2. 这个等效的单个卷积核的维数是多少呢？\n",
    "   3. 反之亦然吗？"
   ]
  },
  {
   "cell_type": "markdown",
   "id": "b6bdfbfb-c31f-4a63-8bcd-a2ad7c85f622",
   "metadata": {},
   "source": [
    "**解答：**"
   ]
  },
  {
   "cell_type": "markdown",
   "id": "f6a70131-38b3-4105-b9ce-3d1d9bc9ddc5",
   "metadata": {},
   "source": [
    "**第1问：**"
   ]
  },
  {
   "cell_type": "markdown",
   "id": "411f8ce0-d6f3-4985-83da-e18e99aa8d10",
   "metadata": {},
   "source": [
    "&emsp;&emsp;假设输入的图像大小为 $W×H$ ，设卷积核 $1$ 的大小为 $k_1$ ，卷积核 $2$ 的大小为 $k2$ ，它们分别作用于输入矩阵 $x$ ，得到的输出矩阵分别为 $y_1$ 和 $y_2$ 。则可以将 $y1$ 与 $y2$ 的每一个元素相加，得到最终输出矩阵 $y$。\n",
    "\n",
    "&emsp;&emsp;即：$$y[i][j] = y_1[i][j] + y_2[i][j]$$\n",
    "\n",
    "&emsp;&emsp;可以将两个卷积核的大小相加，得到一个新的卷积核大小为 $(k_1+k_2-1)×(k_1+k_2-1)$ 。然后可以将这个新的卷积核应用于输入图像，得到一个输出图像。这个输出图像的大小为 $(W-k_1-k_2+2)×(H-k_1-k_2+2)$ 。"
   ]
  },
  {
   "cell_type": "markdown",
   "id": "a00d5da9-940c-4713-9a6f-fe3fed813be1",
   "metadata": {},
   "source": [
    "**第2问：**"
   ]
  },
  {
   "cell_type": "markdown",
   "id": "fa29e0ab-b5aa-4ac9-abbb-75e4a54d2727",
   "metadata": {},
   "source": [
    "&emsp;&emsp;可以使用一个大小为 $(k_1+k_2-1)×(k_1+k_2-1)$ 的卷积来表示这两个卷积核的运算。 "
   ]
  },
  {
   "cell_type": "markdown",
   "id": "eb1771ea-8a17-433a-b8d4-072ec48287e4",
   "metadata": {},
   "source": [
    "**第3问：**"
   ]
  },
  {
   "cell_type": "markdown",
   "id": "68d54d4f-e49b-499a-b985-3a0ab43da1e3",
   "metadata": {},
   "source": [
    "&emsp;&emsp;反之亦然。如果有一个大小为 $k_1 + k_2 -1$ 的卷积核，可以将其分解为大小分别为 $k_1$ 和 $k_2$ 的卷积核。这两个卷积核之间没有非线性激活函数，所以它们的运算可以被视为一个单独的卷积核。"
   ]
  },
  {
   "cell_type": "markdown",
   "id": "e37f9dfb-7350-4bff-9e4b-db4b01630f6e",
   "metadata": {},
   "source": [
    "### 练习二\n",
    "\n",
    "2. 假设输入为$c_i\\times h\\times w$，卷积核大小为$c_o\\times c_i\\times k_h\\times k_w$，填充为$(p_h, p_w)$，步幅为$(s_h, s_w)$。\n",
    "    1. 前向传播的计算成本（乘法和加法）是多少？\n",
    "    1. 内存占用是多少？\n",
    "    1. 反向传播的内存占用是多少？\n",
    "    1. 反向传播的计算成本是多少？"
   ]
  },
  {
   "cell_type": "markdown",
   "id": "e9e20fa2-f14e-44a8-9c40-05e0c83d55f7",
   "metadata": {},
   "source": [
    "**解答：**"
   ]
  },
  {
   "cell_type": "markdown",
   "id": "e41e5acc-8e09-4f2d-be35-5481da53a427",
   "metadata": {},
   "source": [
    "**第1问：**"
   ]
  },
  {
   "cell_type": "markdown",
   "id": "e1732d47-6d8d-4291-9d13-8d33d7ab2591",
   "metadata": {},
   "source": [
    "&emsp;&emsp;前向计算成本为\n",
    "\n",
    "$$flops_{forward} = c_i \\times c_o \\times k_h \\times k_w \\times m_h \\times m_w$$\n",
    "\n",
    "&emsp;&emsp;其中 $m_h=\\lfloor \\frac{h+2p_h-k_h}{s_h}+1 \\rfloor$ , $m_w=\\lfloor \\frac{w+2p_w-k_w}{s_w}+1 \\rfloor$ 。"
   ]
  },
  {
   "cell_type": "markdown",
   "id": "e4871fb0-1323-43cd-bb5d-95058f5357cf",
   "metadata": {},
   "source": [
    "**第2问：**"
   ]
  },
  {
   "cell_type": "markdown",
   "id": "adc7bda6-c0fd-4afc-a13e-6a651d19afd9",
   "metadata": {},
   "source": [
    "&emsp;&emsp;输入需要 $c_i*h*w$ 个浮点数，卷积核需要 $c_o*c_i*k_h*k_w$ 个浮点数，输出需要 $c_o*m_h*m_w$ 个浮点数。此外，还需要存储中间结果，即填充后的输入和反向传播时的梯度信息。因此，总内存占用为 \n",
    "$$memory_{forward}=(c_i+k_h-1)*(h+k_w-1)*c_0+2*c_i*h*w$$"
   ]
  },
  {
   "cell_type": "markdown",
   "id": "9c3f032f-bb3c-4eac-b96e-32b0812c878b",
   "metadata": {},
   "source": [
    "**第3问：**"
   ]
  },
  {
   "cell_type": "markdown",
   "id": "357cca46-c8f8-4f35-9c5a-0365fcbe4c2a",
   "metadata": {},
   "source": [
    "&emsp;&emsp;反向传播的内存作用与前向传播相同，总内存占用为\n",
    "\n",
    "$$memory_{backward}=(c_i+k_h-1)*(h+k_w-1)*c_0+2*c_i*h*w$$"
   ]
  },
  {
   "cell_type": "markdown",
   "id": "ff322870-9929-4dcc-93ec-aac6b8559391",
   "metadata": {},
   "source": [
    "**第4问：**"
   ]
  },
  {
   "cell_type": "markdown",
   "id": "5df22b48-3a92-4abe-8fd2-0aa75a850da5",
   "metadata": {},
   "source": [
    "&emsp;&emsp;反向计算成本为\n",
    "\n",
    "$$flops_{backward} = c_i \\times c_o \\times k_h \\times k_w \\times m_h \\times m_w$$\n",
    "\n",
    "&emsp;&emsp;其中 $m_h$ 和 $m_w$ 的定义同上。"
   ]
  },
  {
   "cell_type": "markdown",
   "id": "9707919f-d798-4be5-a373-2dc6bd8fb578",
   "metadata": {},
   "source": [
    "### 练习三\n",
    "\n",
    "3. 如果我们将输入通道$c_i$和输出通道$c_o$的数量加倍，计算数量会增加多少？如果我们把填充数量翻一番会怎么样？"
   ]
  },
  {
   "cell_type": "markdown",
   "id": "abdbde61-ca4b-460d-b16f-6edbcb175487",
   "metadata": {},
   "source": [
    "**解答：**"
   ]
  },
  {
   "cell_type": "markdown",
   "id": "b015a817-16dc-4d8a-96ac-81bee914a221",
   "metadata": {},
   "source": [
    "&emsp;&emsp;**如果我们将输入通道$c_i$和输出通道$c_0$的数量加倍，计算数量会增加$4$倍。如果我们把填充数量翻一番，计算数量会增加$2$倍。**"
   ]
  },
  {
   "cell_type": "markdown",
   "id": "b4f6607b-6de3-43a4-b35a-57e1b4744330",
   "metadata": {},
   "source": [
    "### 练习四\n",
    "\n",
    "4. 如果卷积核的高度和宽度是$k_h=k_w=1$，前向传播的计算复杂度是多少？"
   ]
  },
  {
   "cell_type": "markdown",
   "id": "5ad5d5c4-1fe2-4ec1-9350-8aa7d3e9022e",
   "metadata": {},
   "source": [
    "**解答：**"
   ]
  },
  {
   "cell_type": "markdown",
   "id": "c7d11efe-af9c-4357-97ea-7a054cd07fb0",
   "metadata": {},
   "source": [
    "$$flops = c_i \\times c_o \\times \\frac{h-p_h}{s_h} \\times \\frac{w-p_w}{s_w}$$"
   ]
  },
  {
   "cell_type": "markdown",
   "id": "8b825d06-981f-4f93-a333-1aee90591651",
   "metadata": {},
   "source": [
    "### 练习五\n",
    "\n",
    "5. 本节最后一个示例中的变量`Y1`和`Y2`是否完全相同？为什么？"
   ]
  },
  {
   "cell_type": "markdown",
   "id": "921ddda4-6a26-4a5b-bf3a-77e6857428dd",
   "metadata": {},
   "source": [
    "**解答：**"
   ]
  },
  {
   "cell_type": "markdown",
   "id": "f7139967-1c2b-4cb9-a18d-65e9a032d7e0",
   "metadata": {},
   "source": [
    "&emsp;&emsp;理论上相同，但由于浮点数计算有误差，因而两者不完全相同（有微小差异）。"
   ]
  },
  {
   "cell_type": "markdown",
   "id": "930ef603-9935-467e-9d4a-fcdf663918fd",
   "metadata": {},
   "source": [
    "### 练习六\n",
    "\n",
    "6. 当卷积窗口不是$1\\times 1$时，如何使用矩阵乘法实现卷积？"
   ]
  },
  {
   "cell_type": "markdown",
   "id": "4dc1de66-21f1-423e-8ab3-f975fde9ff8d",
   "metadata": {},
   "source": [
    "**解答：**"
   ]
  },
  {
   "cell_type": "markdown",
   "id": "ba62088b-149b-48fd-af05-0eebb23a3a86",
   "metadata": {},
   "source": [
    "&emsp;&emsp;可以将输入张量和卷积核张量分别展开为二维矩阵，然后对这两个矩阵进行乘法运算，得到的结果再变换为输出张量。"
   ]
  }
 ],
 "metadata": {
  "kernelspec": {
   "display_name": "Python 3 (ipykernel)",
   "language": "python",
   "name": "python3"
  },
  "language_info": {
   "codemirror_mode": {
    "name": "ipython",
    "version": 3
   },
   "file_extension": ".py",
   "mimetype": "text/x-python",
   "name": "python",
   "nbconvert_exporter": "python",
   "pygments_lexer": "ipython3",
   "version": "3.10.6"
  }
 },
 "nbformat": 4,
 "nbformat_minor": 5
}
