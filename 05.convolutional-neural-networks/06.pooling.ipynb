{
 "cells": [
  {
   "cell_type": "markdown",
   "id": "126690e6-83a3-4673-b82d-822066b69061",
   "metadata": {},
   "source": [
    "# 汇聚层\n",
    "\n",
    "通常当我们处理图像时，我们希望逐渐降低隐藏表示的空间分辨率、聚集信息，这样随着我们在神经网络中层叠的上升，每个神经元对其敏感的感受野（输入）就越大。\n",
    "\n",
    "而我们的机器学习任务通常会跟全局图像的问题有关（例如，“图像是否包含一只猫呢？”），所以我们最后一层的神经元应该对整个输入的全局敏感。通过逐渐聚合信息，生成越来越粗糙的映射，最终实现学习全局表示的目标，同时将卷积图层的所有优势保留在中间层。\n",
    "\n",
    "此外，当检测较底层的特征时（例如[图像卷积](https://github.com/lixinjie97/Deep_learning_tutorial/blob/main/05.convolutional-neural-networks/03.conv-layer.ipynb)中所讨论的边缘），我们通常希望这些特征保持某种程度上的平移不变性。例如，如果我们拍摄黑白之间轮廓清晰的图像`X`，并将整个图像向右移动一个像素，即`Z[i, j] = X[i, j + 1]`，则新图像`Z`的输出可能大不相同。而在现实中，随着拍摄角度的移动，任何物体几乎不可能发生在同一像素上。即使用三脚架拍摄一个静止的物体，由于快门的移动而引起的相机振动，可能会使所有物体左右移动一个像素（除了高端相机配备了特殊功能来解决这个问题）。\n",
    "\n",
    "本节将介绍*汇聚*（pooling）层，它具有双重目的：**降低卷积层对位置的敏感性，同时降低对空间降采样表示的敏感性。**"
   ]
  },
  {
   "cell_type": "markdown",
   "id": "febdf688-c535-43c0-aaba-5abdf4c24f62",
   "metadata": {},
   "source": [
    "## 最大汇聚层和平均汇聚层\n",
    "\n",
    "与卷积层类似，汇聚层运算符由一个固定形状的窗口组成，该窗口根据其步幅大小在输入的所有区域上滑动，为固定形状窗口（有时称为*汇聚窗口*）遍历的每个位置计算一个输出。\n",
    "然而，不同于卷积层中的输入与卷积核之间的互相关计算，**汇聚层不包含参数**。\n",
    "相反，池运算是确定性的，我们通常计算汇聚窗口中所有元素的最大值或平均值。这些操作分别称为*最大汇聚层*（maximum pooling）和*平均汇聚层*（average pooling）。\n",
    "\n",
    "在这两种情况下，与互相关运算符一样，汇聚窗口从输入张量的左上角开始，从左往右、从上往下的在输入张量内滑动。在汇聚窗口到达的每个位置，它计算该窗口中输入子张量的最大值或平均值。计算最大值或平均值是取决于使用了最大汇聚层还是平均汇聚层。\n",
    "\n",
    "![汇聚窗口形状为 $2\\times 2$ 的最大汇聚层。着色部分是第一个输出元素，以及用于计算这个输出的输入元素: $\\max(0, 1, 3, 4)=4$.](../assets/pooling.svg)\n",
    ":label:`fig_pooling`\n",
    "\n",
    " :numref:`fig_pooling`中的输出张量的高度为$2$，宽度为$2$。这四个元素为每个汇聚窗口中的最大值：\n",
    "\n",
    "$$\n",
    "\\max(0, 1, 3, 4)=4,\\\\\n",
    "\\max(1, 2, 4, 5)=5,\\\\\n",
    "\\max(3, 4, 6, 7)=7,\\\\\n",
    "\\max(4, 5, 7, 8)=8.\\\\\n",
    "$$\n",
    "\n",
    "汇聚窗口形状为$p \\times q$的汇聚层称为$p \\times q$汇聚层，汇聚操作称为$p \\times q$汇聚。\n",
    "\n",
    "回到本节开头提到的对象边缘检测示例，现在我们将使用卷积层的输出作为$2\\times 2$最大汇聚的输入。\n",
    "设置卷积层输入为`X`，汇聚层输出为`Y`。\n",
    "无论`X[i, j]`和`X[i, j + 1]`的值相同与否，或`X[i, j + 1]`和`X[i, j + 2]`的值相同与否，汇聚层始终输出`Y[i, j] = 1`。\n",
    "也就是说，使用$2\\times 2$最大汇聚层，即使在高度或宽度上移动一个元素，卷积层仍然可以识别到模式。\n",
    "\n",
    "在下面的代码中的`pool2d`函数，我们(**实现汇聚层的前向传播**)。\n",
    "这类似于[图像卷积](https://github.com/lixinjie97/Deep_learning_tutorial/blob/main/05.convolutional-neural-networks/03.conv-layer.ipynb)中的`corr2d`函数。\n",
    "然而，这里我们没有卷积核，输出为输入中每个区域的最大值或平均值。"
   ]
  },
  {
   "cell_type": "code",
   "execution_count": 1,
   "id": "aeb0bb99-2e29-4e32-a060-ca397173e2e8",
   "metadata": {},
   "outputs": [],
   "source": [
    "import torch\n",
    "from torch import nn\n",
    "from d2l import torch as d2l"
   ]
  },
  {
   "cell_type": "code",
   "execution_count": 2,
   "id": "d72033f6-5f00-4a22-af78-13437e982883",
   "metadata": {},
   "outputs": [],
   "source": [
    "def pool2d(X, pool_size, mode='max'):\n",
    "    p_h, p_w = pool_size\n",
    "    Y = torch.zeros((X.shape[0] - p_h + 1, X.shape[1] - p_w + 1))\n",
    "    for i in range(Y.shape[0]):\n",
    "        for j in range(Y.shape[1]):\n",
    "            if mode == 'max':\n",
    "                Y[i, j] = X[i: i + p_h, j: j + p_w].max()\n",
    "            elif mode == 'avg':\n",
    "                Y[i, j] = X[i: i + p_h, j: j + p_w].mean()\n",
    "    return Y"
   ]
  },
  {
   "cell_type": "markdown",
   "id": "a0df34ce-c894-4471-b2aa-33936b57c7ed",
   "metadata": {},
   "source": [
    "我们可以构建 :numref:`fig_pooling`中的输入张量`X`，[**验证二维最大汇聚层的输出**]。"
   ]
  },
  {
   "cell_type": "code",
   "execution_count": 3,
   "id": "0c823f91-d74f-477c-b9b8-d7910bb702fc",
   "metadata": {},
   "outputs": [
    {
     "data": {
      "text/plain": [
       "tensor([[4., 5.],\n",
       "        [7., 8.]])"
      ]
     },
     "execution_count": 3,
     "metadata": {},
     "output_type": "execute_result"
    }
   ],
   "source": [
    "X = torch.tensor([[0.0, 1.0, 2.0], [3.0, 4.0, 5.0], [6.0, 7.0, 8.0]])\n",
    "pool2d(X, (2, 2))"
   ]
  },
  {
   "cell_type": "markdown",
   "id": "0d5145ed-6f5b-47f2-a75a-74acae5182e9",
   "metadata": {},
   "source": [
    "此外，我们还可以(**验证平均汇聚层**)。"
   ]
  },
  {
   "cell_type": "code",
   "execution_count": 4,
   "id": "8d9ff423-ad12-4b8e-83bc-025660531048",
   "metadata": {},
   "outputs": [
    {
     "data": {
      "text/plain": [
       "tensor([[2., 3.],\n",
       "        [5., 6.]])"
      ]
     },
     "execution_count": 4,
     "metadata": {},
     "output_type": "execute_result"
    }
   ],
   "source": [
    "pool2d(X, (2, 2), 'avg')"
   ]
  },
  {
   "cell_type": "markdown",
   "id": "fe9dadb6-2198-497c-b010-91b81312f000",
   "metadata": {},
   "source": [
    "## [**填充和步幅**]\n",
    "\n",
    "与卷积层一样，汇聚层也可以改变输出形状。和以前一样，我们可以通过填充和步幅以获得所需的输出形状。\n",
    "下面，我们用深度学习框架中内置的二维最大汇聚层，来演示汇聚层中填充和步幅的使用。\n",
    "我们首先构造了一个输入张量`X`，它有四个维度，其中样本数和通道数都是1。"
   ]
  },
  {
   "cell_type": "code",
   "execution_count": 5,
   "id": "897e02db-77aa-440a-9fad-0866ca0c13b3",
   "metadata": {},
   "outputs": [
    {
     "data": {
      "text/plain": [
       "tensor([[[[ 0.,  1.,  2.,  3.],\n",
       "          [ 4.,  5.,  6.,  7.],\n",
       "          [ 8.,  9., 10., 11.],\n",
       "          [12., 13., 14., 15.]]]])"
      ]
     },
     "execution_count": 5,
     "metadata": {},
     "output_type": "execute_result"
    }
   ],
   "source": [
    "X = torch.arange(16, dtype=torch.float32).reshape((1, 1, 4, 4))\n",
    "X"
   ]
  },
  {
   "cell_type": "markdown",
   "id": "fd976cda-419b-4106-a044-49eab2c16df8",
   "metadata": {},
   "source": [
    "默认情况下，(**深度学习框架中的步幅与汇聚窗口的大小相同**)。\n",
    "因此，如果我们使用形状为`(3, 3)`的汇聚窗口，那么默认情况下，我们得到的步幅形状为`(3, 3)`。"
   ]
  },
  {
   "cell_type": "code",
   "execution_count": 6,
   "id": "bd62ffdf-1084-4209-afab-903ff6b9699a",
   "metadata": {},
   "outputs": [
    {
     "data": {
      "text/plain": [
       "tensor([[[[10.]]]])"
      ]
     },
     "execution_count": 6,
     "metadata": {},
     "output_type": "execute_result"
    }
   ],
   "source": [
    "pool2d = nn.MaxPool2d(3)\n",
    "pool2d(X)"
   ]
  },
  {
   "cell_type": "markdown",
   "id": "e2b5c4e2-9b14-432a-bf34-35ff317038cb",
   "metadata": {},
   "source": [
    "[**填充和步幅可以手动设定**]。"
   ]
  },
  {
   "cell_type": "code",
   "execution_count": 7,
   "id": "dc20e008-d30d-4914-89b5-3bd96266225c",
   "metadata": {},
   "outputs": [
    {
     "data": {
      "text/plain": [
       "tensor([[[[ 5.,  7.],\n",
       "          [13., 15.]]]])"
      ]
     },
     "execution_count": 7,
     "metadata": {},
     "output_type": "execute_result"
    }
   ],
   "source": [
    "pool2d = nn.MaxPool2d(3, padding=1, stride=2)\n",
    "pool2d(X)"
   ]
  },
  {
   "cell_type": "markdown",
   "id": "27945fee-4c1b-4042-bb52-1438e54fe5ed",
   "metadata": {},
   "source": [
    "当然，我们可以(**设定一个任意大小的矩形汇聚窗口，并分别设定填充和步幅的高度和宽度**)。"
   ]
  },
  {
   "cell_type": "code",
   "execution_count": 8,
   "id": "5ea7d5af-c4c8-45e9-99ad-ce021137e515",
   "metadata": {},
   "outputs": [
    {
     "data": {
      "text/plain": [
       "tensor([[[[ 5.,  7.],\n",
       "          [13., 15.]]]])"
      ]
     },
     "execution_count": 8,
     "metadata": {},
     "output_type": "execute_result"
    }
   ],
   "source": [
    "pool2d = nn.MaxPool2d((2, 3), stride=(2, 3), padding=(0, 1))\n",
    "pool2d(X)"
   ]
  },
  {
   "cell_type": "markdown",
   "id": "c3cd67a4-a439-436a-a2f4-68406f88cf28",
   "metadata": {},
   "source": [
    "## 多个通道\n",
    "\n",
    "在处理多通道输入数据时，[**汇聚层在每个输入通道上单独运算**]，**而不是像卷积层一样在通道上对输入进行汇总。\n",
    "这意味着汇聚层的输出通道数与输入通道数相同。**\n",
    "下面，我们将在通道维度上连结张量`X`和`X + 1`，以构建具有2个通道的输入。"
   ]
  },
  {
   "cell_type": "code",
   "execution_count": 9,
   "id": "35e86ea3-1daf-4780-a302-42e784711813",
   "metadata": {},
   "outputs": [
    {
     "data": {
      "text/plain": [
       "tensor([[[[ 0.,  1.,  2.,  3.],\n",
       "          [ 4.,  5.,  6.,  7.],\n",
       "          [ 8.,  9., 10., 11.],\n",
       "          [12., 13., 14., 15.]],\n",
       "\n",
       "         [[ 1.,  2.,  3.,  4.],\n",
       "          [ 5.,  6.,  7.,  8.],\n",
       "          [ 9., 10., 11., 12.],\n",
       "          [13., 14., 15., 16.]]]])"
      ]
     },
     "execution_count": 9,
     "metadata": {},
     "output_type": "execute_result"
    }
   ],
   "source": [
    "X = torch.cat((X, X + 1), 1)\n",
    "X"
   ]
  },
  {
   "cell_type": "code",
   "execution_count": 10,
   "id": "30b27742-a31a-49bf-a15e-79b31e599b41",
   "metadata": {},
   "outputs": [
    {
     "data": {
      "text/plain": [
       "tensor([[[[ 5.,  7.],\n",
       "          [13., 15.]],\n",
       "\n",
       "         [[ 6.,  8.],\n",
       "          [14., 16.]]]])"
      ]
     },
     "execution_count": 10,
     "metadata": {},
     "output_type": "execute_result"
    }
   ],
   "source": [
    "pool2d = nn.MaxPool2d(3, padding=1, stride=2)\n",
    "pool2d(X)"
   ]
  },
  {
   "cell_type": "markdown",
   "id": "8b6ef5de-b761-40a4-8565-bebb9b2a8847",
   "metadata": {},
   "source": [
    "## 小结\n",
    "\n",
    "* 对于给定输入元素，最大汇聚层会输出该窗口内的最大值，平均汇聚层会输出该窗口内的平均值。\n",
    "* 汇聚层的主要优点之一是减轻卷积层对位置的过度敏感。\n",
    "* 我们可以指定汇聚层的填充和步幅。\n",
    "* 使用最大汇聚层以及大于1的步幅，可减少空间维度（如高度和宽度）。\n",
    "* 汇聚层的输出通道数与输入通道数相同。"
   ]
  },
  {
   "cell_type": "markdown",
   "id": "51b19718-ec3c-46cd-9660-04e5ae9acdfd",
   "metadata": {},
   "source": [
    "## 练习\n",
    "\n",
    "1. 尝试将平均汇聚层作为卷积层的特殊情况实现。\n",
    "1. 尝试将最大汇聚层作为卷积层的特殊情况实现。\n",
    "1. 假设汇聚层的输入大小为$c\\times h\\times w$，则汇聚窗口的形状为$p_h\\times p_w$，填充为$(p_h, p_w)$，步幅为$(s_h, s_w)$。这个汇聚层的计算成本是多少？\n",
    "1. 为什么最大汇聚层和平均汇聚层的工作方式不同？\n",
    "1. 我们是否需要最小汇聚层？可以用已知函数替换它吗？\n",
    "1. 除了平均汇聚层和最大汇聚层，是否有其它函数可以考虑（提示：回想一下`softmax`）？为什么它不流行？"
   ]
  },
  {
   "cell_type": "markdown",
   "id": "db92bf2e-7480-4536-8bed-68c5ee40a79f",
   "metadata": {},
   "source": [
    "### 练习一\n",
    "\n",
    "1. 尝试将平均汇聚层作为卷积层的特殊情况实现。"
   ]
  },
  {
   "cell_type": "markdown",
   "id": "52bb52c1-0a6a-4507-bbb0-2461dcdba0c3",
   "metadata": {},
   "source": [
    "**解答：**"
   ]
  },
  {
   "cell_type": "code",
   "execution_count": 11,
   "id": "75f51154-7612-4c3e-b9c0-9bc772d98f8c",
   "metadata": {},
   "outputs": [],
   "source": [
    "# 代码验证\n",
    "# 导入PyTorch库中的必要组件\n",
    "import torch.nn as nn\n",
    "import torch.nn.functional as F\n",
    "\n",
    "# 定义一个继承自nn.Module的神经网络类\n",
    "class Net(nn.Module):\n",
    "    def __init__(self):\n",
    "        # 调用父类的初始化方法\n",
    "        super(Net, self).__init__()\n",
    "        # 定义卷积层1，输入通道数为1，输出通道数为6，卷积核大小为5x5\n",
    "        self.conv1 = nn.Conv2d(1, 6, 5)\n",
    "        # 定义池化层，将6个通道的特征图进行平均池化\n",
    "        self.pool = nn.Conv2d(6, 6, 5)\n",
    "        # 定义卷积层2，输入通道数为6，输出通道数为16，卷积核大小为5x5\n",
    "        self.conv2 = nn.Conv2d(6, 16, 5)\n",
    "        # 定义全连接层1，输入大小为16*5*5，输出大小为120\n",
    "        self.fc1 = nn.Linear(16 * 5 * 5, 120)\n",
    "        # 定义全连接层2，输入大小为120，输出大小为84\n",
    "        self.fc2 = nn.Linear(120, 84)\n",
    "        # 定义全连接层3，输入大小为84，输出大小为10（对应10个类别的分类）\n",
    "        self.fc3 = nn.Linear(84, 10)\n",
    "\n",
    "    # 定义网络的前向传播路径\n",
    "    def forward(self, x):\n",
    "        # 使用ReLU激活函数进行卷积层1的前向传播\n",
    "        x = F.relu(self.conv1(x))\n",
    "        # 使用平均池化进行池化层的前向传播\n",
    "        x = F.avg_pool2d(x, (2, 2))\n",
    "        # 使用ReLU激活函数进行卷积层2的前向传播\n",
    "        x = F.relu(self.conv2(x))\n",
    "        # 使用平均池化进行池化层的前向传播\n",
    "        x = F.avg_pool2d(x, (2, 2))\n",
    "        # 将特征图展平为一维向量\n",
    "        x = x.view(-1, self.num_flat_features(x))\n",
    "        # 使用ReLU激活函数进行全连接层1的前向传播\n",
    "        x = F.relu(self.fc1(x))\n",
    "        # 使用ReLU激活函数进行全连接层2的前向传播\n",
    "        x = F.relu(self.fc2(x))\n",
    "        # 全连接层3的前向传播，没有使用激活函数\n",
    "        x = self.fc3(x)\n",
    "        return x\n",
    "\n",
    "    # 定义一个辅助函数来计算特征图展平后的特征数量\n",
    "    def num_flat_features(self, x):\n",
    "        size = x.size()[1:] # 获取除了批量维度之外的其他维度的大小\n",
    "        num_features = 1\n",
    "        for s in size:\n",
    "            num_features *= s # 计算总的特征数\n",
    "        return num_features"
   ]
  },
  {
   "cell_type": "markdown",
   "id": "27b82a32-74ee-467b-8d47-8ea279be672a",
   "metadata": {},
   "source": [
    "### 练习二\n",
    "\n",
    "2. 尝试将最大汇聚层作为卷积层的特殊情况实现。"
   ]
  },
  {
   "cell_type": "markdown",
   "id": "27b2b37c-c492-4beb-aed3-2ad7978d592f",
   "metadata": {},
   "source": [
    "**解答：**"
   ]
  },
  {
   "cell_type": "code",
   "execution_count": 12,
   "id": "275c20d0-34a7-4189-b11b-ceb52bb0d242",
   "metadata": {},
   "outputs": [],
   "source": [
    "# 代码验证\n",
    "# 导入PyTorch库中的必要组件\n",
    "import torch.nn as nn\n",
    "import torch.nn.functional as F\n",
    "\n",
    "# 定义一个继承自nn.Module的神经网络类\n",
    "class Net(nn.Module):\n",
    "    def __init__(self):\n",
    "        # 调用父类的初始化方法\n",
    "        super(Net, self).__init__()\n",
    "        # 定义卷积层1，输入通道数为1，输出通道数为6，卷积核大小为5x5\n",
    "        self.conv1 = nn.Conv2d(1, 6, 5)\n",
    "        # 定义池化层，将6个通道的特征图进行平均池化\n",
    "        self.pool = nn.Conv2d(6, 6, 5)\n",
    "        # 定义卷积层2，输入通道数为6，输出通道数为16，卷积核大小为5x5\n",
    "        self.conv2 = nn.Conv2d(6, 16, 5)\n",
    "        # 定义全连接层1，输入大小为16*5*5，输出大小为120\n",
    "        self.fc1 = nn.Linear(16 * 5 * 5, 120)\n",
    "        # 定义全连接层2，输入大小为120，输出大小为84\n",
    "        self.fc2 = nn.Linear(120, 84)\n",
    "        # 定义全连接层3，输入大小为84，输出大小为10（对应10个类别的分类）\n",
    "        self.fc3 = nn.Linear(84, 10)\n",
    "\n",
    "    # 定义网络的前向传播路径\n",
    "    def forward(self, x):\n",
    "        # 使用ReLU激活函数进行卷积层1的前向传播\n",
    "        x = F.relu(self.conv1(x))\n",
    "        # 使用平均池化进行池化层的前向传播\n",
    "        x = F.max_pool2d(x, (2, 2))\n",
    "        # 使用ReLU激活函数进行卷积层2的前向传播\n",
    "        x = F.relu(self.conv2(x))\n",
    "        # 使用平均池化进行池化层的前向传播\n",
    "        x = F.max_pool2d(x, (2, 2))\n",
    "        # 将特征图展平为一维向量\n",
    "        x = x.view(-1, self.num_flat_features(x))\n",
    "        # 使用ReLU激活函数进行全连接层1的前向传播\n",
    "        x = F.relu(self.fc1(x))\n",
    "        # 使用ReLU激活函数进行全连接层2的前向传播\n",
    "        x = F.relu(self.fc2(x))\n",
    "        # 全连接层3的前向传播，没有使用激活函数\n",
    "        x = self.fc3(x)\n",
    "        return x\n",
    "\n",
    "    # 定义一个辅助函数来计算特征图展平后的特征数量\n",
    "    def num_flat_features(self, x):\n",
    "        size = x.size()[1:] # 获取除了批量维度之外的其他维度的大小\n",
    "        num_features = 1\n",
    "        for s in size:\n",
    "            num_features *= s # 计算总的特征数\n",
    "        return num_features"
   ]
  },
  {
   "cell_type": "markdown",
   "id": "ebab07f2-523a-46db-a3ea-1659de133c61",
   "metadata": {},
   "source": [
    "### 练习三\n",
    "\n",
    "3. 假设汇聚层的输入大小为$c\\times h\\times w$，则汇聚窗口的形状为$p_h\\times p_w$，填充为$(p_h, p_w)$，步幅为$(s_h, s_w)$。这个汇聚层的计算成本是多少？"
   ]
  },
  {
   "cell_type": "markdown",
   "id": "40c55ceb-6db5-4cff-99de-526e509eb6c4",
   "metadata": {},
   "source": [
    "**解答：**"
   ]
  },
  {
   "cell_type": "markdown",
   "id": "d4a7688e-348a-4515-9acd-cda914fcbdc7",
   "metadata": {},
   "source": [
    "$$flops=\\frac{c \\times h \\times w \\times p_h \\times p_w}{s_h \\times s_w}$$"
   ]
  },
  {
   "cell_type": "markdown",
   "id": "5d1fac28-eef8-4f00-8e8e-724ea0d7caed",
   "metadata": {},
   "source": [
    "### 练习四\n",
    "\n",
    "4. 为什么最大汇聚层和平均汇聚层的工作方式不同？"
   ]
  },
  {
   "cell_type": "markdown",
   "id": "61c1e7b8-f929-431f-9c46-501fc8a5b31b",
   "metadata": {},
   "source": [
    "**解答：**"
   ]
  },
  {
   "cell_type": "markdown",
   "id": "1d867d9a-37a7-45da-85bc-dbeb3a23e63d",
   "metadata": {},
   "source": [
    "&emsp;&emsp;最大池化和平均池化层的工作方式不同，因为它们使用不同的池化方法。最大池化层将输入张量分成不重叠的区域，并在每个区域中选择最大值。平均池化层将张量分成不重叠的区域，并计算每个区域的平均值。这些方法的主要区别在于它们如何处理输入张量中的信息。最大池化层通常用于提取输入张量中的显著特征，而平均池化层通常用于减少输入张量的大小并提高模型的计算效率。"
   ]
  },
  {
   "cell_type": "markdown",
   "id": "1bcdffb0-a591-462a-b4ad-a66b2b96c02a",
   "metadata": {},
   "source": [
    "### 练习五\n",
    "\n",
    "5. 我们是否需要最小汇聚层？可以用已知函数替换它吗？"
   ]
  },
  {
   "cell_type": "markdown",
   "id": "604c9d61-7421-4c55-a702-597a502ea64a",
   "metadata": {},
   "source": [
    "**解答：**"
   ]
  },
  {
   "cell_type": "markdown",
   "id": "7fb1457c-b4af-4d84-9b49-c12707803541",
   "metadata": {},
   "source": [
    "&emsp;&emsp;在神经网络中，汇聚层（`Pooling Layer`）通常用于减少特征图的空间维度，从而减少参数数量并且使网络对于平移变换更加鲁棒。常见的汇聚操作包括最大汇聚和平均汇聚。最小汇聚并不常见，因为它没有最大汇聚和平均汇聚那样的优点，也不常用于实际的神经网络架构中。因此我们可以不需要最小汇聚层，可以对负值做最大池化操作来进行代替。"
   ]
  },
  {
   "cell_type": "code",
   "execution_count": 13,
   "id": "373c8a3f-0a71-4fc7-97ba-2239e6711802",
   "metadata": {},
   "outputs": [
    {
     "name": "stdout",
     "output_type": "stream",
     "text": [
      "tensor([[[[ 0.,  1.,  2.,  3.],\n",
      "          [ 4.,  5.,  6.,  7.],\n",
      "          [ 8.,  9., 10., 11.],\n",
      "          [12., 13., 14., 15.]]]])\n",
      "tensor([[[[ 0.,  2.],\n",
      "          [ 8., 10.]]]])\n"
     ]
    }
   ],
   "source": [
    "# 代码验证\n",
    "# 导入PyTorch库\n",
    "import torch.nn.functional as F # 导入PyTorch的函数模块\n",
    "\n",
    "# 定义最小池化函数\n",
    "def min_pool2d(x, kernel_size, stride=None, padding=0, dilation=1, ceil_mode=False):\n",
    "    # 将输入张量x去负数\n",
    "    neg_x = -x\n",
    "    # 使用F.max_pool2d对取负后的张量进行最大池化操作\n",
    "    neg_min_pool = F.max_pool2d(neg_x, kernel_size, stride=stride, padding=padding, dilation=dilation, ceil_mode=ceil_mode)\n",
    "    # 将经过最大池化的结果再次取负，得到最小池化的结果\n",
    "    min_pool = -neg_min_pool\n",
    "    return min_pool\n",
    "\n",
    "# 示例\n",
    "# 创建一个4x4的张量，值从0到15\n",
    "X = torch.arange(16, dtype=torch.float32).reshape((1, 1, 4, 4))\n",
    "print(X) # 打印原始张量\n",
    "print(min_pool2d(X, 2)) # 应用最小池化并打印结果"
   ]
  },
  {
   "cell_type": "markdown",
   "id": "9c502f2e-8c07-43fd-9a10-0ece2d3183ca",
   "metadata": {},
   "source": [
    "### 练习六\n",
    "\n",
    "6. 除了平均汇聚层和最大汇聚层，是否有其它函数可以考虑（提示：回想一下`softmax`）？为什么它不流行？"
   ]
  },
  {
   "cell_type": "markdown",
   "id": "49363570-0fa9-4b7a-8e5c-a6e3c0fdc811",
   "metadata": {},
   "source": [
    "**解答：**"
   ]
  },
  {
   "cell_type": "markdown",
   "id": "586e966a-4dbb-46eb-a5ca-ec57db358a02",
   "metadata": {},
   "source": [
    "&emsp;&emsp;除了平均汇聚层和最大汇聚层，还有一些其他的池化函数，例如`Lp`池化和随机池化。`Softmax`函数通常用于多分类问题，它将每个输出分类的结果赋予一个概率值，表示属于每个类别的可能性。但是，`Softmax`函数不适用于池化层，因为它会将所有输入数据转换为概率分布，这会导致信息丢失。因此，`Softmax`函数不流行用于池化层"
   ]
  }
 ],
 "metadata": {
  "kernelspec": {
   "display_name": "Python 3 (ipykernel)",
   "language": "python",
   "name": "python3"
  },
  "language_info": {
   "codemirror_mode": {
    "name": "ipython",
    "version": 3
   },
   "file_extension": ".py",
   "mimetype": "text/x-python",
   "name": "python",
   "nbconvert_exporter": "python",
   "pygments_lexer": "ipython3",
   "version": "3.10.6"
  }
 },
 "nbformat": 4,
 "nbformat_minor": 5
}
