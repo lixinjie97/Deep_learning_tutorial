{
 "cells": [
  {
   "cell_type": "markdown",
   "id": "80508433-01d6-41c7-817b-a05858dbd91e",
   "metadata": {},
   "source": [
    "# GPU\n",
    "\n",
    "我们回顾了过去20年计算能力的快速增长。\n",
    "简而言之，自2000年以来，GPU性能每十年增长1000倍。\n",
    "\n",
    "本节，我们将讨论如何利用这种计算性能进行研究。\n",
    "首先是如何使用单个GPU，然后是如何使用多个GPU和多个服务器（具有多个GPU）。\n",
    "\n",
    "我们先看看如何使用单个NVIDIA GPU进行计算。\n",
    "首先，确保至少安装了一个NVIDIA GPU。\n",
    "然后，下载[NVIDIA驱动和CUDA](https://developer.nvidia.com/cuda-downloads)\n",
    "并按照提示设置适当的路径。\n",
    "当这些准备工作完成，就可以使用`nvidia-smi`命令来(**查看显卡信息。**)"
   ]
  },
  {
   "cell_type": "code",
   "execution_count": 1,
   "id": "865d4090-02c8-4929-8ba5-7dc3c3835e08",
   "metadata": {},
   "outputs": [
    {
     "name": "stdout",
     "output_type": "stream",
     "text": [
      "Mon Aug  5 16:38:44 2024       \n",
      "+---------------------------------------------------------------------------------------+\n",
      "| NVIDIA-SMI 535.86.01              Driver Version: 536.67       CUDA Version: 12.2     |\n",
      "|-----------------------------------------+----------------------+----------------------+\n",
      "| GPU  Name                 Persistence-M | Bus-Id        Disp.A | Volatile Uncorr. ECC |\n",
      "| Fan  Temp   Perf          Pwr:Usage/Cap |         Memory-Usage | GPU-Util  Compute M. |\n",
      "|                                         |                      |               MIG M. |\n",
      "|=========================================+======================+======================|\n",
      "|   0  NVIDIA GeForce RTX 4060 Ti     On  | 00000000:01:00.0 Off |                  N/A |\n",
      "|  0%   36C    P8               6W / 165W |   1187MiB / 16380MiB |      0%      Default |\n",
      "|                                         |                      |                  N/A |\n",
      "+-----------------------------------------+----------------------+----------------------+\n",
      "                                                                                         \n",
      "+---------------------------------------------------------------------------------------+\n",
      "| Processes:                                                                            |\n",
      "|  GPU   GI   CI        PID   Type   Process name                            GPU Memory |\n",
      "|        ID   ID                                                             Usage      |\n",
      "|=======================================================================================|\n",
      "|    0   N/A  N/A        25      G   /Xwayland                                 N/A      |\n",
      "+---------------------------------------------------------------------------------------+\n"
     ]
    }
   ],
   "source": [
    "!nvidia-smi"
   ]
  },
  {
   "cell_type": "markdown",
   "id": "94ed5cb4-d5ba-43ea-9519-4bba6c5f4d0a",
   "metadata": {},
   "source": [
    "在PyTorch中，每个数组都有一个设备（device），\n",
    "我们通常将其称为环境（context）。\n",
    "默认情况下，所有变量和相关的计算都分配给CPU。\n",
    "有时环境可能是GPU。\n",
    "当我们跨多个服务器部署作业时，事情会变得更加棘手。\n",
    "通过智能地将数组分配给环境，\n",
    "我们可以最大限度地减少在设备之间传输数据的时间。\n",
    "例如，当在带有GPU的服务器上训练神经网络时，\n",
    "我们通常希望模型的参数在GPU上。"
   ]
  },
  {
   "cell_type": "markdown",
   "id": "c29fc5b3-0ea2-4175-b105-5eeb252969fc",
   "metadata": {},
   "source": [
    "要运行此部分中的程序，至少需要两个GPU。\n",
    "注意，对大多数桌面计算机来说，这可能是奢侈的，但在云中很容易获得。\n",
    "例如可以使用AWS EC2的多GPU实例。\n",
    "本书的其他章节大都不需要多个GPU，\n",
    "而本节只是为了展示数据如何在不同的设备之间传递。"
   ]
  },
  {
   "cell_type": "markdown",
   "id": "9538b98f-34bb-4ac2-ae1b-1a78e9833d0f",
   "metadata": {},
   "source": [
    "## [**计算设备**]\n",
    "\n",
    "我们可以指定用于存储和计算的设备，如CPU和GPU。\n",
    "默认情况下，张量是在内存中创建的，然后使用CPU计算它。"
   ]
  },
  {
   "cell_type": "code",
   "execution_count": 2,
   "id": "92c3d505-ce1c-4ece-bd39-d9e976f74d3c",
   "metadata": {},
   "outputs": [
    {
     "data": {
      "text/plain": [
       "(device(type='cpu'), device(type='cuda'), device(type='cuda', index=1))"
      ]
     },
     "execution_count": 2,
     "metadata": {},
     "output_type": "execute_result"
    }
   ],
   "source": [
    "import torch\n",
    "from torch import nn\n",
    "\n",
    "torch.device('cpu'), torch.device('cuda'), torch.device('cuda:1')"
   ]
  },
  {
   "cell_type": "markdown",
   "id": "f2f816d7-9370-43db-b1cc-29459967aa02",
   "metadata": {},
   "source": [
    "我们可以(**查询可用gpu的数量。**)"
   ]
  },
  {
   "cell_type": "code",
   "execution_count": 3,
   "id": "b1a73919-445f-4f30-b9c8-df912ec96821",
   "metadata": {},
   "outputs": [
    {
     "data": {
      "text/plain": [
       "1"
      ]
     },
     "execution_count": 3,
     "metadata": {},
     "output_type": "execute_result"
    }
   ],
   "source": [
    "torch.cuda.device_count()"
   ]
  },
  {
   "cell_type": "markdown",
   "id": "fe481748-4d15-428a-894b-47ef3cdc8681",
   "metadata": {},
   "source": [
    "现在我们定义了两个方便的函数，\n",
    "[**这两个函数允许我们在不存在所需所有GPU的情况下运行代码。**]"
   ]
  },
  {
   "cell_type": "code",
   "execution_count": 4,
   "id": "edeaee00-f557-4891-801c-2ada3d1815b6",
   "metadata": {},
   "outputs": [
    {
     "data": {
      "text/plain": [
       "(device(type='cuda', index=0),\n",
       " device(type='cpu'),\n",
       " [device(type='cuda', index=0)])"
      ]
     },
     "execution_count": 4,
     "metadata": {},
     "output_type": "execute_result"
    }
   ],
   "source": [
    "def try_gpu(i=0):\n",
    "    \"\"\"如果存在，则返回gpu(i)，否则返回cpu()\"\"\"\n",
    "    if torch.cuda.device_count() >= i + 1:\n",
    "        return torch.device(f'cuda:{i}')\n",
    "    return torch.device('cpu')\n",
    "\n",
    "def try_all_gpus():\n",
    "    \"\"\"返回所有可用的GPU，如果没有GPU，则返回[cpu(),]\"\"\"\n",
    "    devices = [torch.device(f'cuda:{i}')\n",
    "              for i in range(torch.cuda.device_count())]\n",
    "    return devices if devices else [torch.device('cpu')]\n",
    "\n",
    "try_gpu(), try_gpu(10), try_all_gpus()"
   ]
  },
  {
   "cell_type": "markdown",
   "id": "1e7a1592-1299-4243-b936-7c0077567a69",
   "metadata": {},
   "source": [
    "## 张量与GPU\n",
    "\n",
    "我们可以[**查询张量所在的设备。**]\n",
    "默认情况下，张量是在CPU上创建的。"
   ]
  },
  {
   "cell_type": "code",
   "execution_count": 5,
   "id": "83bd998c-c25d-48e2-ad42-1683302cb795",
   "metadata": {},
   "outputs": [
    {
     "data": {
      "text/plain": [
       "device(type='cpu')"
      ]
     },
     "execution_count": 5,
     "metadata": {},
     "output_type": "execute_result"
    }
   ],
   "source": [
    "x = torch.tensor([1, 2, 3])\n",
    "x.device"
   ]
  },
  {
   "cell_type": "markdown",
   "id": "7f25eab1-0bc6-43ff-94a7-86602494a573",
   "metadata": {},
   "source": [
    "需要注意的是，无论何时我们要对多个项进行操作，\n",
    "它们都必须在同一个设备上。\n",
    "例如，如果我们对两个张量求和，\n",
    "我们需要确保两个张量都位于同一个设备上，\n",
    "否则框架将不知道在哪里存储结果，甚至不知道在哪里执行计算。"
   ]
  },
  {
   "cell_type": "markdown",
   "id": "25fde435-b149-4a3a-8c09-6387ab07ec7f",
   "metadata": {},
   "source": [
    "### [**存储在GPU上**]\n",
    "\n",
    "有几种方法可以在GPU上存储张量。\n",
    "例如，我们可以在创建张量时指定存储设备。接\n",
    "下来，我们在第一个`gpu`上创建张量变量`X`。\n",
    "在GPU上创建的张量只消耗这个GPU的显存。\n",
    "我们可以使用`nvidia-smi`命令查看显存使用情况。\n",
    "一般来说，我们需要确保不创建超过GPU显存限制的数据。"
   ]
  },
  {
   "cell_type": "code",
   "execution_count": 6,
   "id": "abda4897-fe46-4871-8fb1-708b6573eb6b",
   "metadata": {},
   "outputs": [
    {
     "data": {
      "text/plain": [
       "tensor([[1., 1., 1.],\n",
       "        [1., 1., 1.]], device='cuda:0')"
      ]
     },
     "execution_count": 6,
     "metadata": {},
     "output_type": "execute_result"
    }
   ],
   "source": [
    "X = torch.ones(2, 3, device=try_gpu())\n",
    "X"
   ]
  },
  {
   "cell_type": "markdown",
   "id": "f1c27c6c-079a-4eff-8d3c-cb4be14626b1",
   "metadata": {},
   "source": [
    "假设我们只有一个GPU，下面的代码将在(**第CPU上创建一个随机张量。**)"
   ]
  },
  {
   "cell_type": "code",
   "execution_count": 7,
   "id": "888a2bcb-68fc-4b17-8206-1d7313eab0cd",
   "metadata": {},
   "outputs": [
    {
     "data": {
      "text/plain": [
       "tensor([[0.6701, 0.5655, 0.9315],\n",
       "        [0.8566, 0.2334, 0.0201]])"
      ]
     },
     "execution_count": 7,
     "metadata": {},
     "output_type": "execute_result"
    }
   ],
   "source": [
    "Y = torch.rand(2, 3, device=try_gpu(10))\n",
    "Y"
   ]
  },
  {
   "cell_type": "code",
   "execution_count": 8,
   "id": "dccbee88-f058-443c-8efe-a3cce548c2e8",
   "metadata": {},
   "outputs": [
    {
     "name": "stdout",
     "output_type": "stream",
     "text": [
      "Expected all tensors to be on the same device, but found at least two devices, cuda:0 and cpu!\n"
     ]
    }
   ],
   "source": [
    "try:\n",
    "    Y + X\n",
    "except Exception as e:\n",
    "    print(str(e))"
   ]
  },
  {
   "cell_type": "markdown",
   "id": "4c70cc09-209a-4f45-8ee8-55fb688f38cd",
   "metadata": {},
   "source": [
    "**可以看到张量做运算必须在同一个设备上**"
   ]
  },
  {
   "cell_type": "markdown",
   "id": "5e818021-53de-4251-b2c4-89a5e88d6896",
   "metadata": {},
   "source": [
    "### 复制\n",
    "\n",
    "如果我们[**要计算`X + Y`，我们需要决定在哪里执行这个操作**]。\n",
    "例如，如下图所示，\n",
    "我们可以将`X`传输到CPU并在那里执行操作。\n",
    "*不要*简单地`X`加上`Y`，因为这会导致异常，\n",
    "运行时引擎不知道该怎么做：它在同一设备上找不到数据会导致失败。\n",
    "由于`Y`位于CPU上，所以我们需要将`X`移到那里，\n",
    "然后才能执行相加运算。\n",
    "\n",
    "![复制数据以在同一设备上执行操作](../assets/copyto.svg)"
   ]
  },
  {
   "cell_type": "code",
   "execution_count": 9,
   "id": "8f2d2985-dd55-4f9c-8e0d-129d4f3ec3aa",
   "metadata": {},
   "outputs": [
    {
     "name": "stdout",
     "output_type": "stream",
     "text": [
      "tensor([[1., 1., 1.],\n",
      "        [1., 1., 1.]], device='cuda:0')\n",
      "tensor([[1., 1., 1.],\n",
      "        [1., 1., 1.]])\n"
     ]
    }
   ],
   "source": [
    "Z = X.cpu()\n",
    "print(X)\n",
    "print(Z)"
   ]
  },
  {
   "cell_type": "code",
   "execution_count": 10,
   "id": "1181e517-27c8-4682-90c0-508b1496a66c",
   "metadata": {},
   "outputs": [
    {
     "data": {
      "text/plain": [
       "tensor([[1.6701, 1.5655, 1.9315],\n",
       "        [1.8566, 1.2334, 1.0201]])"
      ]
     },
     "execution_count": 10,
     "metadata": {},
     "output_type": "execute_result"
    }
   ],
   "source": [
    "Y + Z"
   ]
  },
  {
   "cell_type": "markdown",
   "id": "a493076b-2fd2-4a01-93ed-6b2b39c87f7a",
   "metadata": {},
   "source": [
    "假设变量`Z`已经存在CPU上。\n",
    "如果我们还是调用`Z.cpu()`会发生什么？\n",
    "它将返回`Z`，而不会复制并分配新内存。"
   ]
  },
  {
   "cell_type": "code",
   "execution_count": 11,
   "id": "e2653df2-4d1b-4433-b512-e4245183e100",
   "metadata": {},
   "outputs": [
    {
     "data": {
      "text/plain": [
       "True"
      ]
     },
     "execution_count": 11,
     "metadata": {},
     "output_type": "execute_result"
    }
   ],
   "source": [
    "Z.cpu() is Z"
   ]
  },
  {
   "cell_type": "markdown",
   "id": "365cd580-8562-44a7-9448-5259de960ab9",
   "metadata": {},
   "source": [
    "### 旁注\n",
    "\n",
    "人们使用GPU来进行机器学习，因为单个GPU相对运行速度快。\n",
    "但是在设备（CPU、GPU和其他机器）之间传输数据比计算慢得多。\n",
    "这也使得并行化变得更加困难，因为我们必须等待数据被发送（或者接收），\n",
    "然后才能继续进行更多的操作。\n",
    "这就是为什么拷贝操作要格外小心。\n",
    "根据经验，多个小操作比一个大操作糟糕得多。\n",
    "此外，一次执行几个操作比代码中散布的许多单个操作要好得多。\n",
    "如果一个设备必须等待另一个设备才能执行其他操作，\n",
    "那么这样的操作可能会阻塞。\n",
    "这有点像排队订购咖啡，而不像通过电话预先订购：\n",
    "当客人到店的时候，咖啡已经准备好了。\n",
    "\n",
    "最后，当我们打印张量或将张量转换为NumPy格式时，\n",
    "如果数据不在内存中，框架会首先将其复制到内存中，\n",
    "这会导致额外的传输开销。\n",
    "更糟糕的是，它现在受制于全局解释器锁，使得一切都得等待Python完成。"
   ]
  },
  {
   "cell_type": "markdown",
   "id": "0e048fe0-7625-49bb-be1a-76abe1119779",
   "metadata": {},
   "source": [
    "## [**神经网络与GPU**]\n",
    "\n",
    "类似地，神经网络模型可以指定设备。\n",
    "下面的代码将模型参数放在GPU上。"
   ]
  },
  {
   "cell_type": "code",
   "execution_count": 12,
   "id": "e60c01c9-e8d4-4bb0-a906-0e5c03ef0a9f",
   "metadata": {},
   "outputs": [],
   "source": [
    "net = nn.Sequential(nn.Linear(3, 1))\n",
    "net = net.to(device=try_gpu())"
   ]
  },
  {
   "cell_type": "markdown",
   "id": "c675891e-9df3-46bb-bf35-b8d4e33371c5",
   "metadata": {},
   "source": [
    "在接下来的几章中，\n",
    "我们将看到更多关于如何在GPU上运行模型的例子，\n",
    "因为它们将变得更加计算密集。\n",
    "\n",
    "当输入为GPU上的张量时，模型将在同一GPU上计算结果。"
   ]
  },
  {
   "cell_type": "code",
   "execution_count": 13,
   "id": "7bb62bc7-9d29-4d67-b56c-b1ba29ca2546",
   "metadata": {},
   "outputs": [
    {
     "data": {
      "text/plain": [
       "tensor([[0.9724],\n",
       "        [0.9724]], device='cuda:0', grad_fn=<AddmmBackward0>)"
      ]
     },
     "execution_count": 13,
     "metadata": {},
     "output_type": "execute_result"
    }
   ],
   "source": [
    "net(X)"
   ]
  },
  {
   "cell_type": "markdown",
   "id": "22eed9df-c090-4eac-8a95-90a7f65e9dbe",
   "metadata": {},
   "source": [
    "让我们(**确认模型参数存储在同一个GPU上。**)"
   ]
  },
  {
   "cell_type": "code",
   "execution_count": 14,
   "id": "7e4c2a9e-00fa-40b1-bd08-25b6264e5c5f",
   "metadata": {},
   "outputs": [
    {
     "data": {
      "text/plain": [
       "device(type='cuda', index=0)"
      ]
     },
     "execution_count": 14,
     "metadata": {},
     "output_type": "execute_result"
    }
   ],
   "source": [
    "net[0].weight.data.device"
   ]
  },
  {
   "cell_type": "markdown",
   "id": "b6726bbc-cd8b-49ac-82dc-361ce45e4f0c",
   "metadata": {},
   "source": [
    "总之，只要所有的数据和参数都在同一个设备上，\n",
    "我们就可以有效地学习模型。\n",
    "在下面的章节中，我们将看到几个这样的例子。"
   ]
  },
  {
   "cell_type": "markdown",
   "id": "ae68b221-f568-481a-b6e3-75c8b22d0f93",
   "metadata": {},
   "source": [
    "## 小结\n",
    "\n",
    "* 我们可以指定用于存储和计算的设备，例如CPU或GPU。默认情况下，数据在主内存中创建，然后使用CPU进行计算。\n",
    "* 深度学习框架要求计算的所有输入数据都在同一设备上，无论是CPU还是GPU。\n",
    "* 不经意地移动数据可能会显著降低性能。一个典型的错误如下：计算GPU上每个小批量的损失，并在命令行中将其报告给用户（或将其记录在NumPy `ndarray`中）时，将触发全局解释器锁，从而使所有GPU阻塞。最好是为GPU内部的日志分配内存，并且只移动较大的日志。"
   ]
  },
  {
   "cell_type": "markdown",
   "id": "95e87384-479e-4fdf-a21c-afd65d0a0a5c",
   "metadata": {},
   "source": [
    "## 练习\n",
    "\n",
    "1. 尝试一个计算量更大的任务，比如大矩阵的乘法，看看CPU和GPU之间的速度差异。再试一个计算量很小的任务呢？\n",
    "1. 我们应该如何在GPU上读写模型参数？\n",
    "1. 测量计算1000个$100 \\times 100$矩阵的矩阵乘法所需的时间，并记录输出矩阵的Frobenius范数，一次记录一个结果，而不是在GPU上保存日志并仅传输最终结果。\n",
    "1. 测量同时在两个GPU上执行两个矩阵乘法与在一个GPU上按顺序执行两个矩阵乘法所需的时间。提示：应该看到近乎线性的缩放。"
   ]
  }
 ],
 "metadata": {
  "kernelspec": {
   "display_name": "Python 3 (ipykernel)",
   "language": "python",
   "name": "python3"
  },
  "language_info": {
   "codemirror_mode": {
    "name": "ipython",
    "version": 3
   },
   "file_extension": ".py",
   "mimetype": "text/x-python",
   "name": "python",
   "nbconvert_exporter": "python",
   "pygments_lexer": "ipython3",
   "version": "3.10.6"
  }
 },
 "nbformat": 4,
 "nbformat_minor": 5
}
